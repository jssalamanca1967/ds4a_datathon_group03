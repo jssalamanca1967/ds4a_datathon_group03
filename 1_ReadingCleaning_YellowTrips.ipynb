{
 "cells": [
  {
   "cell_type": "code",
   "execution_count": 2,
   "metadata": {},
   "outputs": [],
   "source": [
    "import pandas as pd\n",
    "import os\n",
    "import numpy as np\n",
    "import pandas_profiling\n",
    "\n",
    "# This line is needed to display plots inline in Jupyter Notebook\n",
    "%matplotlib inline\n",
    "\n",
    "# Required for basic python plotting functionality\n",
    "import matplotlib.pyplot as plt\n",
    "\n",
    "# Required for formatting dates later in the case\n",
    "import datetime\n",
    "import matplotlib.dates as mdates\n",
    "\n",
    "# Required to display image inline\n",
    "from IPython.display import Image\n",
    "\n",
    "# Advanced plotting functionality with seaborn\n",
    "import seaborn as sns\n",
    "sns.set(style=\"whitegrid\") # can set style depending on how you'd like it to look\n",
    "\n",
    "import folium  #needed for interactive map\n",
    "from folium.plugins import HeatMap\n",
    "\n",
    "import geopandas\n",
    "from shapely.geometry import Polygon\n",
    "from shapely.geometry import Point\n",
    "from geopandas import GeoDataFrame"
   ]
  },
  {
   "cell_type": "code",
   "execution_count": 3,
   "metadata": {},
   "outputs": [],
   "source": [
    "path = 'DataSet/Original'\n",
    "file = 'yellow_trips_new.csv'\n",
    "\n",
    "yellow_trips = pd.read_csv(path + '/' + file, sep = ',', doublequote = True)"
   ]
  },
  {
   "cell_type": "code",
   "execution_count": 4,
   "metadata": {},
   "outputs": [
    {
     "data": {
      "text/html": [
       "<div>\n",
       "<style scoped>\n",
       "    .dataframe tbody tr th:only-of-type {\n",
       "        vertical-align: middle;\n",
       "    }\n",
       "\n",
       "    .dataframe tbody tr th {\n",
       "        vertical-align: top;\n",
       "    }\n",
       "\n",
       "    .dataframe thead th {\n",
       "        text-align: right;\n",
       "    }\n",
       "</style>\n",
       "<table border=\"1\" class=\"dataframe\">\n",
       "  <thead>\n",
       "    <tr style=\"text-align: right;\">\n",
       "      <th></th>\n",
       "      <th>pickup_datetime</th>\n",
       "      <th>dropoff_datetime</th>\n",
       "      <th>pickup_longitude</th>\n",
       "      <th>pickup_latitude</th>\n",
       "      <th>dropoff_longitude</th>\n",
       "      <th>dropoff_latitude</th>\n",
       "      <th>passenger_count</th>\n",
       "      <th>trip_distance</th>\n",
       "      <th>total_amount</th>\n",
       "    </tr>\n",
       "  </thead>\n",
       "  <tbody>\n",
       "    <tr>\n",
       "      <td>0</td>\n",
       "      <td>2014-04-03 18:28:10</td>\n",
       "      <td>2014-04-03 18:54:32</td>\n",
       "      <td>-74.006033</td>\n",
       "      <td>40.706284</td>\n",
       "      <td>-73.918837</td>\n",
       "      <td>40.744946</td>\n",
       "      <td>1</td>\n",
       "      <td>8.70</td>\n",
       "      <td>34.8</td>\n",
       "    </tr>\n",
       "    <tr>\n",
       "      <td>1</td>\n",
       "      <td>2014-04-16 15:42:00</td>\n",
       "      <td>2014-04-16 16:07:00</td>\n",
       "      <td>-73.979558</td>\n",
       "      <td>40.749357</td>\n",
       "      <td>0.000000</td>\n",
       "      <td>0.000000</td>\n",
       "      <td>1</td>\n",
       "      <td>9.37</td>\n",
       "      <td>30.0</td>\n",
       "    </tr>\n",
       "    <tr>\n",
       "      <td>2</td>\n",
       "      <td>2014-04-13 18:04:00</td>\n",
       "      <td>2014-04-13 18:07:00</td>\n",
       "      <td>-73.956453</td>\n",
       "      <td>40.775307</td>\n",
       "      <td>-73.954792</td>\n",
       "      <td>40.784992</td>\n",
       "      <td>1</td>\n",
       "      <td>0.89</td>\n",
       "      <td>6.5</td>\n",
       "    </tr>\n",
       "    <tr>\n",
       "      <td>3</td>\n",
       "      <td>2014-05-21 19:33:00</td>\n",
       "      <td>2014-05-21 19:45:00</td>\n",
       "      <td>-73.987212</td>\n",
       "      <td>40.757850</td>\n",
       "      <td>-73.960198</td>\n",
       "      <td>40.775472</td>\n",
       "      <td>1</td>\n",
       "      <td>2.40</td>\n",
       "      <td>12.5</td>\n",
       "    </tr>\n",
       "    <tr>\n",
       "      <td>4</td>\n",
       "      <td>2014-05-30 16:28:00</td>\n",
       "      <td>2014-05-30 16:51:00</td>\n",
       "      <td>-73.974292</td>\n",
       "      <td>40.755397</td>\n",
       "      <td>-74.011867</td>\n",
       "      <td>40.704222</td>\n",
       "      <td>3</td>\n",
       "      <td>5.58</td>\n",
       "      <td>24.5</td>\n",
       "    </tr>\n",
       "  </tbody>\n",
       "</table>\n",
       "</div>"
      ],
      "text/plain": [
       "       pickup_datetime     dropoff_datetime  pickup_longitude  \\\n",
       "0  2014-04-03 18:28:10  2014-04-03 18:54:32        -74.006033   \n",
       "1  2014-04-16 15:42:00  2014-04-16 16:07:00        -73.979558   \n",
       "2  2014-04-13 18:04:00  2014-04-13 18:07:00        -73.956453   \n",
       "3  2014-05-21 19:33:00  2014-05-21 19:45:00        -73.987212   \n",
       "4  2014-05-30 16:28:00  2014-05-30 16:51:00        -73.974292   \n",
       "\n",
       "   pickup_latitude  dropoff_longitude  dropoff_latitude  passenger_count  \\\n",
       "0        40.706284         -73.918837         40.744946                1   \n",
       "1        40.749357           0.000000          0.000000                1   \n",
       "2        40.775307         -73.954792         40.784992                1   \n",
       "3        40.757850         -73.960198         40.775472                1   \n",
       "4        40.755397         -74.011867         40.704222                3   \n",
       "\n",
       "   trip_distance  total_amount  \n",
       "0           8.70          34.8  \n",
       "1           9.37          30.0  \n",
       "2           0.89           6.5  \n",
       "3           2.40          12.5  \n",
       "4           5.58          24.5  "
      ]
     },
     "execution_count": 4,
     "metadata": {},
     "output_type": "execute_result"
    }
   ],
   "source": [
    "yellow_trips.head()"
   ]
  },
  {
   "cell_type": "code",
   "execution_count": 5,
   "metadata": {},
   "outputs": [],
   "source": [
    "yellow_trips['pickup_datetime'] = pd.to_datetime(yellow_trips['pickup_datetime'], format = '%Y-%m-%d %H:%M:%S')\n",
    "yellow_trips['dropoff_datetime'] = pd.to_datetime(yellow_trips['pickup_datetime'], format = '%Y-%m-%d %H:%M:%S')\n",
    "yellow_trips['pickup_month'] = yellow_trips['pickup_datetime'].dt.year*100 + yellow_trips['pickup_datetime'].dt.month\n",
    "yellow_trips['dropoff_month'] = yellow_trips['dropoff_datetime'].dt.year*100 + yellow_trips['dropoff_datetime'].dt.month"
   ]
  },
  {
   "cell_type": "code",
   "execution_count": 6,
   "metadata": {},
   "outputs": [
    {
     "name": "stdout",
     "output_type": "stream",
     "text": [
      "(7974059, 11)\n",
      "(7926168, 12)\n"
     ]
    },
    {
     "name": "stderr",
     "output_type": "stream",
     "text": [
      "C:\\Users\\johns\\Anaconda3\\envs\\DS4A_test\\lib\\site-packages\\ipykernel_launcher.py:3: SettingWithCopyWarning: \n",
      "A value is trying to be set on a copy of a slice from a DataFrame.\n",
      "Try using .loc[row_indexer,col_indexer] = value instead\n",
      "\n",
      "See the caveats in the documentation: http://pandas.pydata.org/pandas-docs/stable/user_guide/indexing.html#returning-a-view-versus-a-copy\n",
      "  This is separate from the ipykernel package so we can avoid doing imports until\n"
     ]
    }
   ],
   "source": [
    "print(yellow_trips.shape)\n",
    "yellow_trips_2 = yellow_trips[yellow_trips['trip_distance'] > 0]\n",
    "yellow_trips_2['amount_per_distance'] = yellow_trips_2['total_amount']/yellow_trips_2['trip_distance']\n",
    "print(yellow_trips_2.shape)"
   ]
  },
  {
   "cell_type": "code",
   "execution_count": 7,
   "metadata": {},
   "outputs": [
    {
     "data": {
      "image/png": "[encoded data removed]",
      "text/plain": [
       "<Figure size 1080x360 with 1 Axes>"
      ]
     },
     "metadata": {},
     "output_type": "display_data"
    }
   ],
   "source": [
    "base = yellow_trips_2.copy()\n",
    "\n",
    "# Heat map of energy consumption by month and year\n",
    "fig, ax = plt.subplots(figsize=(15,5))\n",
    "chart = sns.boxplot( y=\"amount_per_distance\", data=base, ax = ax)\n",
    "ax.set_title('Peak Months Consumption Analysis');\n",
    "ax.set(ylabel='Value')\n",
    "\n",
    "chart.set_xticklabels(chart.get_xticklabels(), rotation=90)\n",
    "plt.show()"
   ]
  },
  {
   "cell_type": "code",
   "execution_count": 8,
   "metadata": {},
   "outputs": [],
   "source": [
    "def drop_outliers_iqr(base, var):\n",
    "\n",
    "    q1 = base[var].quantile(0.25)\n",
    "    q3 = base[var].quantile(0.75)\n",
    "\n",
    "    iqr = q3 - q1\n",
    "\n",
    "    min_val = q1-1.5*iqr\n",
    "    max_val = q3+1.5*iqr\n",
    "\n",
    "    print(max_val)\n",
    "\n",
    "    base['Eliminate'] = np.where(np.logical_or(base[var] > max_val, \n",
    "                                                  (base[var] < min_val)), 1, 0)\n",
    "\n",
    "    base = base.loc[base['Eliminate'] == 0]\n",
    "    base = base.drop('Eliminate', axis = 1)\n",
    "    return base"
   ]
  },
  {
   "cell_type": "code",
   "execution_count": 9,
   "metadata": {},
   "outputs": [
    {
     "name": "stdout",
     "output_type": "stream",
     "text": [
      "Cleaning Total Amout Outliers\n",
      "Shape before: (7926168, 12)\n",
      "13.573011573504063\n"
     ]
    },
    {
     "name": "stderr",
     "output_type": "stream",
     "text": [
      "C:\\Users\\johns\\Anaconda3\\envs\\DS4A_test\\lib\\site-packages\\ipykernel_launcher.py:14: SettingWithCopyWarning: \n",
      "A value is trying to be set on a copy of a slice from a DataFrame.\n",
      "Try using .loc[row_indexer,col_indexer] = value instead\n",
      "\n",
      "See the caveats in the documentation: http://pandas.pydata.org/pandas-docs/stable/user_guide/indexing.html#returning-a-view-versus-a-copy\n",
      "  \n"
     ]
    },
    {
     "name": "stdout",
     "output_type": "stream",
     "text": [
      "Shape after: (7588170, 12)\n"
     ]
    }
   ],
   "source": [
    "print('Cleaning Total Amout Outliers')\n",
    "print('Shape before:', yellow_trips_2.shape)\n",
    "yellow_trips_2 = drop_outliers_iqr(yellow_trips_2, 'amount_per_distance')\n",
    "print('Shape after:', yellow_trips_2.shape)"
   ]
  },
  {
   "cell_type": "code",
   "execution_count": 10,
   "metadata": {},
   "outputs": [
    {
     "data": {
      "image/png": "[encoded data removed]",
      "text/plain": [
       "<Figure size 1080x360 with 1 Axes>"
      ]
     },
     "metadata": {},
     "output_type": "display_data"
    }
   ],
   "source": [
    "base = yellow_trips_2.copy()\n",
    "# Heat map of energy consumption by month and year\n",
    "fig, ax = plt.subplots(figsize=(15,5))\n",
    "chart = sns.boxplot(y=\"amount_per_distance\", data=base, ax = ax)\n",
    "ax.set_title('amount_per_distance');\n",
    "ax.set(ylabel='Value')\n",
    "\n",
    "chart.set_xticklabels(chart.get_xticklabels(), rotation=90)\n",
    "plt.show()"
   ]
  },
  {
   "cell_type": "code",
   "execution_count": 11,
   "metadata": {},
   "outputs": [],
   "source": [
    "path = 'DataSet/Parquets'\n",
    "yellow_trips_2.to_parquet(path + '/yellow_trips_filtered.parquet', engine = 'pyarrow')"
   ]
  }
 ],
 "metadata": {
  "kernelspec": {
   "display_name": "Python 3",
   "language": "python",
   "name": "python3"
  },
  "language_info": {
   "codemirror_mode": {
    "name": "ipython",
    "version": 3
   },
   "file_extension": ".py",
   "mimetype": "text/x-python",
   "name": "python",
   "nbconvert_exporter": "python",
   "pygments_lexer": "ipython3",
   "version": "3.7.3"
  }
 },
 "nbformat": 4,
 "nbformat_minor": 2
}
