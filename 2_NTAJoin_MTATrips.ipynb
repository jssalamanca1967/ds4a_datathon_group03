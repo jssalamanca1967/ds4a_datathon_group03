{
 "cells": [
  {
   "cell_type": "code",
   "execution_count": 2,
   "metadata": {},
   "outputs": [],
   "source": [
    "import pandas as pd\n",
    "import os\n",
    "import numpy as np\n",
    "import pandas_profiling\n",
    "\n",
    "# This line is needed to display plots inline in Jupyter Notebook\n",
    "%matplotlib inline\n",
    "\n",
    "# Required for basic python plotting functionality\n",
    "import matplotlib.pyplot as plt\n",
    "\n",
    "# Required for formatting dates later in the case\n",
    "import datetime\n",
    "import matplotlib.dates as mdates\n",
    "\n",
    "# Required to display image inline\n",
    "from IPython.display import Image\n",
    "\n",
    "# Advanced plotting functionality with seaborn\n",
    "import seaborn as sns\n",
    "sns.set(style=\"whitegrid\") # can set style depending on how you'd like it to look\n",
    "\n",
    "import folium  #needed for interactive map\n",
    "from folium.plugins import HeatMap\n",
    "\n",
    "import geopandas\n",
    "from shapely.geometry import Polygon\n",
    "from shapely.geometry import Point\n",
    "from geopandas import GeoDataFrame"
   ]
  },
  {
   "cell_type": "code",
   "execution_count": 7,
   "metadata": {},
   "outputs": [],
   "source": [
    "# Opens the map as a GeoDataFrame\n",
    "path = 'Dataset/Original'\n",
    "nyc_bouroughs = geopandas.read_file(path + '/Neighborhood Tabulation Areas.geojson')\n",
    "\n",
    "path = 'Dataset/Parquets'\n",
    "yellow_trips_2 = pd.read_parquet(path + '/mta_trips_filtered.parquet', engine = 'pyarrow')"
   ]
  },
  {
   "cell_type": "code",
   "execution_count": 8,
   "metadata": {},
   "outputs": [],
   "source": [
    "geometry = [Point(xy) for xy in zip(mta_trips.longitude, mta_trips.latitude)]\n",
    "# df = df.drop(['Lon', 'Lat'], axis=1)\n",
    "crs = {'init': 'epsg:4326'}\n",
    "gdf = GeoDataFrame(mta_trips, crs=crs, geometry=geometry)"
   ]
  },
  {
   "cell_type": "code",
   "execution_count": 9,
   "metadata": {},
   "outputs": [
    {
     "name": "stdout",
     "output_type": "stream",
     "text": [
      "(7554197, 11)\n",
      "(7554197, 11)\n"
     ]
    }
   ],
   "source": [
    "print(gdf.shape)\n",
    "gdf_boroughs = geopandas.sjoin(gdf, nyc_bouroughs, how=\"inner\", op='intersects')\n",
    "print(gdf.shape)"
   ]
  },
  {
   "cell_type": "code",
   "execution_count": 10,
   "metadata": {},
   "outputs": [],
   "source": [
    "gdf_final = gdf_boroughs.drop(['geometry'], axis = 1)"
   ]
  },
  {
   "cell_type": "code",
   "execution_count": 11,
   "metadata": {},
   "outputs": [
    {
     "data": {
      "text/plain": [
       "station                object\n",
       "line_name              object\n",
       "division               object\n",
       "audit_type             object\n",
       "unit_id                object\n",
       "datetime       datetime64[ns]\n",
       "new_entries             int64\n",
       "new_exits               int64\n",
       "latitude              float64\n",
       "longitude             float64\n",
       "index_right             int64\n",
       "ntacode                object\n",
       "shape_area             object\n",
       "county_fips            object\n",
       "ntaname                object\n",
       "shape_leng             object\n",
       "boro_name              object\n",
       "boro_code              object\n",
       "dtype: object"
      ]
     },
     "execution_count": 11,
     "metadata": {},
     "output_type": "execute_result"
    }
   ],
   "source": [
    "gdf_final['line_name'] = gdf_final['line_name'].astype('str')\n",
    "gdf_final.dtypes"
   ]
  },
  {
   "cell_type": "code",
   "execution_count": 12,
   "metadata": {},
   "outputs": [],
   "source": [
    "path = 'Dataset/Parquets'\n",
    "gdf_final.to_parquet(path + '/mta_trips_nta.parquet', engine = 'pyarrow')"
   ]
  }
 ],
 "metadata": {
  "kernelspec": {
   "display_name": "Python 3",
   "language": "python",
   "name": "python3"
  },
  "language_info": {
   "codemirror_mode": {
    "name": "ipython",
    "version": 3
   },
   "file_extension": ".py",
   "mimetype": "text/x-python",
   "name": "python",
   "nbconvert_exporter": "python",
   "pygments_lexer": "ipython3",
   "version": "3.7.3"
  }
 },
 "nbformat": 4,
 "nbformat_minor": 2
}
