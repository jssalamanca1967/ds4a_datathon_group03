{
 "cells": [
  {
   "cell_type": "code",
   "execution_count": 3,
   "metadata": {},
   "outputs": [],
   "source": [
    "import pandas as pd\n",
    "import os\n",
    "import numpy as np\n",
    "import pandas_profiling\n",
    "\n",
    "# This line is needed to display plots inline in Jupyter Notebook\n",
    "%matplotlib inline\n",
    "\n",
    "# Required for basic python plotting functionality\n",
    "import matplotlib.pyplot as plt\n",
    "\n",
    "# Required for formatting dates later in the case\n",
    "import datetime\n",
    "import matplotlib.dates as mdates\n",
    "\n",
    "# Required to display image inline\n",
    "from IPython.display import Image\n",
    "\n",
    "# Advanced plotting functionality with seaborn\n",
    "import seaborn as sns\n",
    "sns.set(style=\"whitegrid\") # can set style depending on how you'd like it to look\n",
    "\n",
    "import folium  #needed for interactive map\n",
    "from folium.plugins import HeatMap\n",
    "\n",
    "import geopandas\n",
    "from shapely.geometry import Polygon\n",
    "from shapely.geometry import Point\n",
    "from geopandas import GeoDataFrame"
   ]
  },
  {
   "cell_type": "code",
   "execution_count": 4,
   "metadata": {},
   "outputs": [],
   "source": [
    "path = 'DataSet/Parquets'\n",
    "mta_trips = pd.read_parquet(path + '/mta_trips_filtered.parquet', engine = 'pyarrow')"
   ]
  },
  {
   "cell_type": "code",
   "execution_count": 5,
   "metadata": {},
   "outputs": [],
   "source": [
    "mta_trips['date'] = pd.to_datetime(mta_trips['datetime']).dt.date\n",
    "mta_trips['hour'] = pd.to_datetime(mta_trips['datetime']).dt.hour\n",
    "mta_trips_date = mta_trips.groupby(['date', 'hour'])['new_entries'].count().reset_index(name = 'trips')\n",
    "mta_trips_date['new_entries'] = mta_trips.groupby(['date', 'hour'])['new_entries'].transform(sum)#['new_entries']\n",
    "mta_trips_date['new_exits'] = mta_trips.groupby(['date', 'hour'])['new_exits'].transform(sum)#['new_exits']\n",
    "mta_trips_date['date'] = pd.to_datetime(mta_trips_date['date'], format = '%Y-%m-%d')"
   ]
  },
  {
   "cell_type": "code",
   "execution_count": 6,
   "metadata": {},
   "outputs": [],
   "source": [
    "path = 'DataSet/Parquets'\n",
    "mta_trips_date.to_parquet(path + '/mta_trips_date.parquet', engine = 'pyarrow')"
   ]
  }
 ],
 "metadata": {
  "kernelspec": {
   "display_name": "Python 3",
   "language": "python",
   "name": "python3"
  },
  "language_info": {
   "codemirror_mode": {
    "name": "ipython",
    "version": 3
   },
   "file_extension": ".py",
   "mimetype": "text/x-python",
   "name": "python",
   "nbconvert_exporter": "python",
   "pygments_lexer": "ipython3",
   "version": "3.7.3"
  }
 },
 "nbformat": 4,
 "nbformat_minor": 2
}
