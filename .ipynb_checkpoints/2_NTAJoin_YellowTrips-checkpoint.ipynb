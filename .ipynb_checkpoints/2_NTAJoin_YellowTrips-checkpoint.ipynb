{
 "cells": [
  {
   "cell_type": "code",
   "execution_count": 1,
   "metadata": {},
   "outputs": [],
   "source": [
    "import pandas as pd\n",
    "import os\n",
    "import numpy as np\n",
    "import pandas_profiling\n",
    "\n",
    "# This line is needed to display plots inline in Jupyter Notebook\n",
    "%matplotlib inline\n",
    "\n",
    "# Required for basic python plotting functionality\n",
    "import matplotlib.pyplot as plt\n",
    "\n",
    "# Required for formatting dates later in the case\n",
    "import datetime\n",
    "import matplotlib.dates as mdates\n",
    "\n",
    "# Required to display image inline\n",
    "from IPython.display import Image\n",
    "\n",
    "# Advanced plotting functionality with seaborn\n",
    "import seaborn as sns\n",
    "sns.set(style=\"whitegrid\") # can set style depending on how you'd like it to look\n",
    "\n",
    "import folium  #needed for interactive map\n",
    "from folium.plugins import HeatMap\n",
    "\n",
    "import geopandas\n",
    "from shapely.geometry import Polygon\n",
    "from shapely.geometry import Point\n",
    "from geopandas import GeoDataFrame"
   ]
  },
  {
   "cell_type": "code",
   "execution_count": 18,
   "metadata": {},
   "outputs": [],
   "source": [
    "# Opens the map as a GeoDataFrame\n",
    "path = 'Dataset/Original'\n",
    "nyc_bouroughs = geopandas.read_file(path + '/Neighborhood Tabulation Areas.geojson')\n",
    "\n",
    "path = 'Dataset/Parquets'\n",
    "yellow_trips_2 = pd.read_parquet(path + '/yellow_trips_filtered.parquet', engine = 'pyarrow')"
   ]
  },
  {
   "cell_type": "code",
   "execution_count": 26,
   "metadata": {},
   "outputs": [],
   "source": [
    "yellow_trips_2['Index'] = range(yellow_trips_2.shape[0])\n",
    "yellow_trips_2.head()\n",
    "yellow_trips_pu = yellow_trips_2.copy()\n",
    "yellow_trips_do = yellow_trips_2.copy()\n",
    "\n",
    "yellow_trips_pu = yellow_trips_pu.drop(['dropoff_longitude','dropoff_latitude'], axis = 1)\n",
    "yellow_trips_do = yellow_trips_do.drop(['pickup_datetime',\n",
    "'dropoff_datetime',\n",
    "'pickup_longitude',\n",
    "'pickup_latitude',\n",
    "#'dropoff_longitude',\n",
    "#'dropoff_latitude',\n",
    "'passenger_count',\n",
    "'trip_distance',\n",
    "'total_amount',\n",
    "'pickup_month',\n",
    "'dropoff_month',\n",
    "'amount_per_distance',\n",
    "#'Index',\n",
    "], axis = 1)"
   ]
  },
  {
   "cell_type": "code",
   "execution_count": 27,
   "metadata": {},
   "outputs": [],
   "source": [
    "geometry = [Point(xy) for xy in zip(yellow_trips_pu.pickup_longitude, yellow_trips_pu.pickup_latitude)]\n",
    "# df = df.drop(['Lon', 'Lat'], axis=1)\n",
    "crs = {'init': 'epsg:4326'}\n",
    "gdf_pu = GeoDataFrame(yellow_trips_pu, crs=crs, geometry=geometry)"
   ]
  },
  {
   "cell_type": "code",
   "execution_count": 29,
   "metadata": {},
   "outputs": [],
   "source": [
    "geometry = [Point(xy) for xy in zip(yellow_trips_do.dropoff_longitude, yellow_trips_do.dropoff_latitude)]\n",
    "# df = df.drop(['Lon', 'Lat'], axis=1)\n",
    "crs = {'init': 'epsg:4326'}\n",
    "gdf_do = GeoDataFrame(yellow_trips_do, crs=crs, geometry=geometry)"
   ]
  },
  {
   "cell_type": "code",
   "execution_count": 30,
   "metadata": {},
   "outputs": [
    {
     "name": "stdout",
     "output_type": "stream",
     "text": [
      "(7588170, 12)\n",
      "(7435930, 20)\n"
     ]
    }
   ],
   "source": [
    "print(gdf_pu.shape)\n",
    "gdf_pu_boroughs = geopandas.sjoin(gdf_pu, nyc_bouroughs, how=\"inner\", op='intersects')\n",
    "print(gdf_pu_boroughs.shape)"
   ]
  },
  {
   "cell_type": "code",
   "execution_count": 31,
   "metadata": {},
   "outputs": [
    {
     "name": "stdout",
     "output_type": "stream",
     "text": [
      "(7588170, 12)\n",
      "(7422675, 12)\n"
     ]
    }
   ],
   "source": [
    "print(gdf_pu.shape)\n",
    "gdf_do_boroughs = geopandas.sjoin(gdf_do, nyc_bouroughs, how=\"inner\", op='intersects')\n",
    "print(gdf_do_boroughs.shape)"
   ]
  },
  {
   "cell_type": "code",
   "execution_count": 32,
   "metadata": {},
   "outputs": [],
   "source": [
    "gdf = gdf_pu_boroughs.merge(gdf_do_boroughs, on = 'Index', how = 'inner', suffixes = ('_pickup', '_dropoff'))"
   ]
  },
  {
   "cell_type": "code",
   "execution_count": 33,
   "metadata": {},
   "outputs": [
    {
     "data": {
      "text/plain": [
       "pickup_datetime        datetime64[ns]\n",
       "dropoff_datetime       datetime64[ns]\n",
       "pickup_longitude              float64\n",
       "pickup_latitude               float64\n",
       "passenger_count                 int64\n",
       "trip_distance                 float64\n",
       "total_amount                  float64\n",
       "pickup_month                    int64\n",
       "dropoff_month                   int64\n",
       "amount_per_distance           float64\n",
       "Index                           int32\n",
       "geometry_pickup              geometry\n",
       "index_right_pickup              int64\n",
       "ntacode_pickup                 object\n",
       "shape_area_pickup              object\n",
       "county_fips_pickup             object\n",
       "ntaname_pickup                 object\n",
       "shape_leng_pickup              object\n",
       "boro_name_pickup               object\n",
       "boro_code_pickup               object\n",
       "dropoff_longitude             float64\n",
       "dropoff_latitude              float64\n",
       "geometry_dropoff             geometry\n",
       "index_right_dropoff             int64\n",
       "ntacode_dropoff                object\n",
       "shape_area_dropoff             object\n",
       "county_fips_dropoff            object\n",
       "ntaname_dropoff                object\n",
       "shape_leng_dropoff             object\n",
       "boro_name_dropoff              object\n",
       "boro_code_dropoff              object\n",
       "dtype: object"
      ]
     },
     "execution_count": 33,
     "metadata": {},
     "output_type": "execute_result"
    }
   ],
   "source": [
    "gdf.dtypes"
   ]
  },
  {
   "cell_type": "code",
   "execution_count": 34,
   "metadata": {},
   "outputs": [],
   "source": [
    "gdf_final = gdf.drop(['Index', 'geometry_pickup', 'geometry_dropoff'], axis = 1)"
   ]
  },
  {
   "cell_type": "code",
   "execution_count": 35,
   "metadata": {},
   "outputs": [],
   "source": [
    "path = 'Dataset/Parquets'\n",
    "gdf_final.to_parquet(path + '/yellow_trips_nta.parquet', engine = 'pyarrow')"
   ]
  }
 ],
 "metadata": {
  "kernelspec": {
   "display_name": "Python 3",
   "language": "python",
   "name": "python3"
  },
  "language_info": {
   "codemirror_mode": {
    "name": "ipython",
    "version": 3
   },
   "file_extension": ".py",
   "mimetype": "text/x-python",
   "name": "python",
   "nbconvert_exporter": "python",
   "pygments_lexer": "ipython3",
   "version": "3.7.3"
  }
 },
 "nbformat": 4,
 "nbformat_minor": 2
}
