{
 "cells": [
  {
   "cell_type": "code",
   "execution_count": 2,
   "metadata": {},
   "outputs": [],
   "source": [
    "import pandas as pd\n",
    "import os\n",
    "import numpy as np\n",
    "import pandas_profiling\n",
    "\n",
    "# This line is needed to display plots inline in Jupyter Notebook\n",
    "%matplotlib inline\n",
    "\n",
    "# Required for basic python plotting functionality\n",
    "import matplotlib.pyplot as plt\n",
    "\n",
    "# Required for formatting dates later in the case\n",
    "import datetime\n",
    "import matplotlib.dates as mdates\n",
    "\n",
    "# Required to display image inline\n",
    "from IPython.display import Image\n",
    "\n",
    "# Advanced plotting functionality with seaborn\n",
    "import seaborn as sns\n",
    "sns.set(style=\"whitegrid\") # can set style depending on how you'd like it to look\n",
    "\n",
    "import folium  #needed for interactive map\n",
    "from folium.plugins import HeatMap\n",
    "\n",
    "import geopandas\n",
    "from shapely.geometry import Polygon\n",
    "from shapely.geometry import Point\n",
    "from geopandas import GeoDataFrame"
   ]
  },
  {
   "cell_type": "code",
   "execution_count": 4,
   "metadata": {},
   "outputs": [
    {
     "name": "stderr",
     "output_type": "stream",
     "text": [
      "C:\\Users\\johns\\Anaconda3\\envs\\DS4A_test\\lib\\site-packages\\IPython\\core\\interactiveshell.py:3057: DtypeWarning: Columns (1) have mixed types. Specify dtype option on import or set low_memory=False.\n",
      "  interactivity=interactivity, compiler=compiler, result=result)\n"
     ]
    },
    {
     "name": "stdout",
     "output_type": "stream",
     "text": [
      "(7554197, 10)\n"
     ]
    }
   ],
   "source": [
    "path = 'DataSet/Original'\n",
    "file = 'mta_trips.csv'\n",
    "\n",
    "mta_trips = pd.read_csv(path + '/' + file, sep = ',', doublequote = True)\n",
    "print(mta_trips.shape)"
   ]
  },
  {
   "cell_type": "code",
   "execution_count": 3,
   "metadata": {
    "scrolled": false
   },
   "outputs": [
    {
     "data": {
      "text/html": [
       "<div>\n",
       "<style scoped>\n",
       "    .dataframe tbody tr th:only-of-type {\n",
       "        vertical-align: middle;\n",
       "    }\n",
       "\n",
       "    .dataframe tbody tr th {\n",
       "        vertical-align: top;\n",
       "    }\n",
       "\n",
       "    .dataframe thead th {\n",
       "        text-align: right;\n",
       "    }\n",
       "</style>\n",
       "<table border=\"1\" class=\"dataframe\">\n",
       "  <thead>\n",
       "    <tr style=\"text-align: right;\">\n",
       "      <th></th>\n",
       "      <th>station</th>\n",
       "      <th>line_name</th>\n",
       "      <th>division</th>\n",
       "      <th>audit_type</th>\n",
       "      <th>unit_id</th>\n",
       "      <th>datetime</th>\n",
       "      <th>new_entries</th>\n",
       "      <th>new_exits</th>\n",
       "      <th>latitude</th>\n",
       "      <th>longitude</th>\n",
       "    </tr>\n",
       "  </thead>\n",
       "  <tbody>\n",
       "    <tr>\n",
       "      <td>0</td>\n",
       "      <td>WHITEHALL ST</td>\n",
       "      <td>R1</td>\n",
       "      <td>BMT</td>\n",
       "      <td>REGULAR</td>\n",
       "      <td>R001_A058_01-00-00</td>\n",
       "      <td>03/29/2014 05:00:00</td>\n",
       "      <td>4</td>\n",
       "      <td>6</td>\n",
       "      <td>40.703087</td>\n",
       "      <td>-74.012994</td>\n",
       "    </tr>\n",
       "    <tr>\n",
       "      <td>1</td>\n",
       "      <td>WHITEHALL ST</td>\n",
       "      <td>R1</td>\n",
       "      <td>BMT</td>\n",
       "      <td>REGULAR</td>\n",
       "      <td>R001_A058_01-00-00</td>\n",
       "      <td>03/29/2014 09:00:00</td>\n",
       "      <td>1</td>\n",
       "      <td>13</td>\n",
       "      <td>40.703087</td>\n",
       "      <td>-74.012994</td>\n",
       "    </tr>\n",
       "    <tr>\n",
       "      <td>2</td>\n",
       "      <td>WHITEHALL ST</td>\n",
       "      <td>R1</td>\n",
       "      <td>BMT</td>\n",
       "      <td>REGULAR</td>\n",
       "      <td>R001_A058_01-00-00</td>\n",
       "      <td>03/29/2014 13:00:00</td>\n",
       "      <td>1</td>\n",
       "      <td>8</td>\n",
       "      <td>40.703087</td>\n",
       "      <td>-74.012994</td>\n",
       "    </tr>\n",
       "    <tr>\n",
       "      <td>3</td>\n",
       "      <td>WHITEHALL ST</td>\n",
       "      <td>R1</td>\n",
       "      <td>BMT</td>\n",
       "      <td>REGULAR</td>\n",
       "      <td>R001_A058_01-00-00</td>\n",
       "      <td>03/29/2014 17:00:00</td>\n",
       "      <td>1</td>\n",
       "      <td>8</td>\n",
       "      <td>40.703087</td>\n",
       "      <td>-74.012994</td>\n",
       "    </tr>\n",
       "    <tr>\n",
       "      <td>4</td>\n",
       "      <td>WHITEHALL ST</td>\n",
       "      <td>R1</td>\n",
       "      <td>BMT</td>\n",
       "      <td>REGULAR</td>\n",
       "      <td>R001_A058_01-00-00</td>\n",
       "      <td>03/29/2014 21:00:00</td>\n",
       "      <td>2</td>\n",
       "      <td>3</td>\n",
       "      <td>40.703087</td>\n",
       "      <td>-74.012994</td>\n",
       "    </tr>\n",
       "  </tbody>\n",
       "</table>\n",
       "</div>"
      ],
      "text/plain": [
       "        station line_name division audit_type             unit_id  \\\n",
       "0  WHITEHALL ST        R1      BMT    REGULAR  R001_A058_01-00-00   \n",
       "1  WHITEHALL ST        R1      BMT    REGULAR  R001_A058_01-00-00   \n",
       "2  WHITEHALL ST        R1      BMT    REGULAR  R001_A058_01-00-00   \n",
       "3  WHITEHALL ST        R1      BMT    REGULAR  R001_A058_01-00-00   \n",
       "4  WHITEHALL ST        R1      BMT    REGULAR  R001_A058_01-00-00   \n",
       "\n",
       "              datetime  new_entries  new_exits   latitude  longitude  \n",
       "0  03/29/2014 05:00:00            4          6  40.703087 -74.012994  \n",
       "1  03/29/2014 09:00:00            1         13  40.703087 -74.012994  \n",
       "2  03/29/2014 13:00:00            1          8  40.703087 -74.012994  \n",
       "3  03/29/2014 17:00:00            1          8  40.703087 -74.012994  \n",
       "4  03/29/2014 21:00:00            2          3  40.703087 -74.012994  "
      ]
     },
     "execution_count": 3,
     "metadata": {},
     "output_type": "execute_result"
    }
   ],
   "source": [
    "mta_trips.head()"
   ]
  },
  {
   "cell_type": "code",
   "execution_count": 4,
   "metadata": {},
   "outputs": [],
   "source": [
    "mta_trips['datetime'] = pd.to_datetime(mta_trips['datetime'], format = '%m/%d/%Y %H:%M:%S', errors = 'coerce')"
   ]
  },
  {
   "cell_type": "code",
   "execution_count": 6,
   "metadata": {},
   "outputs": [],
   "source": [
    "mta_trips['line_name'] = mta_trips['line_name'].astype('str')\n",
    "mta_trips.dtypes\n",
    "mta_trips.to_parquet(path + '/Parquet/mta_trips_filtered.parquet', engine = 'pyarrow')"
   ]
  },
  {
   "cell_type": "code",
   "execution_count": 7,
   "metadata": {},
   "outputs": [],
   "source": [
    "# Opens the map as a GeoDataFrame\n",
    "path = 'C:/Users/johns/Documents/DS4A_workspace/Datathon/Dataset'\n",
    "nyc_bouroughs = geopandas.read_file(path + '/Neighborhood Tabulation Areas.geojson')"
   ]
  },
  {
   "cell_type": "code",
   "execution_count": 8,
   "metadata": {},
   "outputs": [],
   "source": [
    "geometry = [Point(xy) for xy in zip(mta_trips.longitude, mta_trips.latitude)]\n",
    "# df = df.drop(['Lon', 'Lat'], axis=1)\n",
    "crs = {'init': 'epsg:4326'}\n",
    "gdf = GeoDataFrame(mta_trips, crs=crs, geometry=geometry)"
   ]
  },
  {
   "cell_type": "code",
   "execution_count": 9,
   "metadata": {},
   "outputs": [
    {
     "name": "stdout",
     "output_type": "stream",
     "text": [
      "(7554197, 11)\n",
      "(7554197, 11)\n"
     ]
    }
   ],
   "source": [
    "print(gdf.shape)\n",
    "gdf_boroughs = geopandas.sjoin(gdf, nyc_bouroughs, how=\"inner\", op='intersects')\n",
    "print(gdf.shape)"
   ]
  },
  {
   "cell_type": "code",
   "execution_count": 10,
   "metadata": {},
   "outputs": [],
   "source": [
    "gdf_final = gdf_boroughs.drop(['geometry'], axis = 1)"
   ]
  },
  {
   "cell_type": "code",
   "execution_count": 11,
   "metadata": {},
   "outputs": [
    {
     "data": {
      "text/plain": [
       "station                object\n",
       "line_name              object\n",
       "division               object\n",
       "audit_type             object\n",
       "unit_id                object\n",
       "datetime       datetime64[ns]\n",
       "new_entries             int64\n",
       "new_exits               int64\n",
       "latitude              float64\n",
       "longitude             float64\n",
       "index_right             int64\n",
       "ntacode                object\n",
       "shape_area             object\n",
       "county_fips            object\n",
       "ntaname                object\n",
       "shape_leng             object\n",
       "boro_name              object\n",
       "boro_code              object\n",
       "dtype: object"
      ]
     },
     "execution_count": 11,
     "metadata": {},
     "output_type": "execute_result"
    }
   ],
   "source": [
    "gdf_final['line_name'] = gdf_final['line_name'].astype('str')\n",
    "gdf_final.dtypes"
   ]
  },
  {
   "cell_type": "code",
   "execution_count": 12,
   "metadata": {},
   "outputs": [],
   "source": [
    "gdf_final.to_parquet(path + '/Parquet/mta_trips_nta.parquet', engine = 'pyarrow')"
   ]
  },
  {
   "cell_type": "code",
   "execution_count": 13,
   "metadata": {},
   "outputs": [],
   "source": [
    "mta_trips = pd.read_parquet(path + '/Parquet/mta_trips_nta.parquet', engine = 'pyarrow')"
   ]
  },
  {
   "cell_type": "code",
   "execution_count": 14,
   "metadata": {},
   "outputs": [],
   "source": [
    "max_amount = float(mta_trips['new_entries'].max())\n",
    "\n",
    "folium_hmap = folium.Map(location=[40.738, -73.98],\n",
    "                        zoom_start=13,\n",
    "                        tiles=\"OpenStreetMap\")\n",
    "\n",
    "hm_wide = HeatMap( list(zip(mta_trips['latitude'], mta_trips['longitude'], \n",
    "                            mta_trips['new_entries'])),\n",
    "                   min_opacity=0.2,\n",
    "                   max_val=max_amount,\n",
    "                   radius=8, blur=6, \n",
    "                   max_zoom=15, \n",
    "                 )\n",
    "\n",
    "folium_hmap.add_child(hm_wide);\n",
    "folium_hmap.save(path + \"/maps/heatmap_mta_trips.html\")"
   ]
  },
  {
   "cell_type": "code",
   "execution_count": 15,
   "metadata": {},
   "outputs": [],
   "source": [
    "folium_map = folium.Map(location=[40.738, -73.98],\n",
    "                        zoom_start=13,\n",
    "                        tiles=\"OpenStreetMap\")\n",
    "\n",
    "mta_trips = mta_trips.reset_index()\n",
    "\n",
    "for i in range(0,1000):\n",
    "    marker = folium.CircleMarker(location=[mta_trips[\"latitude\"][i],\n",
    "                                           mta_trips[\"longitude\"][i]],\n",
    "                                 radius=5,color=\"b\",fill=True)\n",
    "    marker.add_to(folium_map)\n",
    "\n",
    "folium_map.save(path + \"/maps/markmap_mta_trips.html\")"
   ]
  }
 ],
 "metadata": {
  "kernelspec": {
   "display_name": "Python 3",
   "language": "python",
   "name": "python3"
  },
  "language_info": {
   "codemirror_mode": {
    "name": "ipython",
    "version": 3
   },
   "file_extension": ".py",
   "mimetype": "text/x-python",
   "name": "python",
   "nbconvert_exporter": "python",
   "pygments_lexer": "ipython3",
   "version": "3.7.3"
  }
 },
 "nbformat": 4,
 "nbformat_minor": 2
}
