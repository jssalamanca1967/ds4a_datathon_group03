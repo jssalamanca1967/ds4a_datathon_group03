{
 "cells": [
  {
   "cell_type": "code",
   "execution_count": 18,
   "metadata": {},
   "outputs": [],
   "source": [
    "import pandas as pd\n",
    "import os\n",
    "import numpy as np\n",
    "import pandas_profiling\n",
    "\n",
    "# This line is needed to display plots inline in Jupyter Notebook\n",
    "%matplotlib inline\n",
    "\n",
    "# Required for basic python plotting functionality\n",
    "import matplotlib.pyplot as plt\n",
    "\n",
    "# Required for formatting dates later in the case\n",
    "import datetime\n",
    "import matplotlib.dates as mdates\n",
    "\n",
    "# Required to display image inline\n",
    "from IPython.display import Image\n",
    "\n",
    "# Advanced plotting functionality with seaborn\n",
    "import seaborn as sns\n",
    "sns.set(style=\"whitegrid\") # can set style depending on how you'd like it to look\n",
    "\n",
    "import folium  #needed for interactive map\n",
    "from folium.plugins import HeatMap\n",
    "\n",
    "import geopandas\n",
    "from shapely.geometry import Polygon\n",
    "from shapely.geometry import Point\n",
    "from geopandas import GeoDataFrame\n",
    "\n",
    "plotsize = (15,6)"
   ]
  },
  {
   "cell_type": "code",
   "execution_count": 19,
   "metadata": {},
   "outputs": [],
   "source": [
    "path = 'Dataset/Parquets'\n",
    "yellow_trips = pd.read_parquet(path + '/yellow_trips_filtered.parquet', engine = 'pyarrow')"
   ]
  },
  {
   "cell_type": "markdown",
   "metadata": {},
   "source": [
    "### Maps"
   ]
  },
  {
   "cell_type": "markdown",
   "metadata": {},
   "source": [
    "#### Heatmap"
   ]
  },
  {
   "cell_type": "code",
   "execution_count": null,
   "metadata": {},
   "outputs": [],
   "source": [
    "max_amount = float(yellow_trips['passenger_count'].max())\n",
    "\n",
    "folium_hmap = folium.Map(location=[40.738, -73.98],\n",
    "                        zoom_start=13,\n",
    "                        tiles=\"OpenStreetMap\")\n",
    "\n",
    "hm_wide = HeatMap( list(zip(yellow_trips['pickup_latitude'], yellow_trips['pickup_longitude'], \n",
    "                            yellow_trips['passenger_count'])),\n",
    "                   min_opacity=0.2,\n",
    "                   max_val=max_amount,\n",
    "                   radius=8, blur=6, \n",
    "                   max_zoom=15, \n",
    "                 )\n",
    "\n",
    "folium_hmap.add_child(hm_wide);\n",
    "path = 'Results'\n",
    "folium_hmap.save(path + \"/Maps/heatmap_yellow_trips.html\")"
   ]
  },
  {
   "cell_type": "code",
   "execution_count": null,
   "metadata": {},
   "outputs": [],
   "source": [
    "folium_map = folium.Map(location=[40.738, -73.98],\n",
    "                        zoom_start=13,\n",
    "                        tiles=\"OpenStreetMap\")\n",
    "\n",
    "yellow_trips = yellow_trips.reset_index()\n",
    "\n",
    "for i in range(0,1000):\n",
    "    marker = folium.CircleMarker(location=[yellow_trips[\"pickup_latitude\"][i],\n",
    "                                           yellow_trips[\"pickup_longitude\"][i]],\n",
    "                                 radius=5,color=\"b\",fill=True)\n",
    "    marker.add_to(folium_map)\n",
    "\n",
    "path = 'Results'\n",
    "folium_map.save(path + \"/Maps/markmap_yellow_trips.html\")"
   ]
  },
  {
   "cell_type": "markdown",
   "metadata": {},
   "source": [
    "### Trips graphs"
   ]
  },
  {
   "cell_type": "code",
   "execution_count": null,
   "metadata": {},
   "outputs": [],
   "source": [
    "path = 'Dataset/Parquets'\n",
    "yellow_trips = pd.read_parquet(path + '/yellow_trips_nta.parquet', engine = 'pyarrow')"
   ]
  },
  {
   "cell_type": "code",
   "execution_count": null,
   "metadata": {},
   "outputs": [],
   "source": [
    "yellow_trips['pickup_hour'] = yellow_trips['pickup_datetime'].dt.hour\n",
    "yellow_trips['pickup_weekday'] = yellow_trips['pickup_datetime'].dt.dayofweek\n",
    "yellow_trips['week_moment'] = np.where(yellow_trips['pickup_weekday'] <= 4, 'Week', 'Weekend')\n",
    "yellow_trips['pickup_weekday'] = np.where(yellow_trips['pickup_weekday'] == 0, 'Monday',\n",
    "                                           np.where(yellow_trips['pickup_weekday'] == 1, 'Tuesday',\n",
    "                                                   np.where(yellow_trips['pickup_weekday'] == 2, 'Wednesday',\n",
    "                                                           np.where(yellow_trips['pickup_weekday'] == 3, 'Thursday',\n",
    "                                                                   np.where(yellow_trips['pickup_weekday'] == 4, 'Friday',\n",
    "                                                                           np.where(yellow_trips['pickup_weekday'] == 5, 'Saturday', 'Sunday'))))))\n",
    "\n",
    "Trips_hour = yellow_trips.groupby(['pickup_hour', 'pickup_weekday', 'week_moment'])['pickup_longitude'].count().reset_index()\n",
    "#Accidents_Hour['HOUR'] = Accidents_Hour['HOUR'].astype('str')\n",
    "\n",
    "fig, ax = plt.subplots(figsize = plotsize)\n",
    "m = sns.lineplot(x=\"pickup_hour\", y=\"pickup_longitude\", hue = 'week_moment', data=Trips_hour, ax=ax)\n",
    "ax.set(xlabel='Hour', ylabel='Number of trips')\n",
    "ax.set_xticks(np.arange(0, 24,1))\n",
    "#plt.xticks(rotation=90);\n",
    "plt.xticks\n",
    "#plt.ylim(0, 18000)\n",
    "plt.title('Yellow Cabs - Trips over a day');\n",
    "path = 'Results'\n",
    "plt.savefig(path + '/Images/yellow_trips_hour_week.png')"
   ]
  },
  {
   "cell_type": "code",
   "execution_count": null,
   "metadata": {},
   "outputs": [],
   "source": [
    "yellow_trips['pickup_hour'] = yellow_trips['pickup_datetime'].dt.hour\n",
    "yellow_trips['pickup_weekday'] = yellow_trips['pickup_datetime'].dt.dayofweek\n",
    "yellow_trips['week_moment'] = np.where(yellow_trips['pickup_weekday'] <= 4, 'Week', 'Weekend')\n",
    "yellow_trips['pickup_weekday'] = np.where(yellow_trips['pickup_weekday'] == 0, 'Monday',\n",
    "                                           np.where(yellow_trips['pickup_weekday'] == 1, 'Tuesday',\n",
    "                                                   np.where(yellow_trips['pickup_weekday'] == 2, 'Wednesday',\n",
    "                                                           np.where(yellow_trips['pickup_weekday'] == 3, 'Thursday',\n",
    "                                                                   np.where(yellow_trips['pickup_weekday'] == 4, 'Friday',\n",
    "                                                                           np.where(yellow_trips['pickup_weekday'] == 5, 'Saturday', 'Sunday'))))))\n",
    "\n",
    "Trips_hour = yellow_trips.groupby(['pickup_hour', 'boro_name_pickup', 'week_moment'])['pickup_longitude'].count().reset_index()\n",
    "#Accidents_Hour['HOUR'] = Accidents_Hour['HOUR'].astype('str')\n",
    "Trips_hour = Trips_hour.loc[Trips_hour['boro_name_pickup'] != 'Manhattan']\n",
    "\n",
    "fig, ax = plt.subplots(figsize = plotsize)\n",
    "m = sns.lineplot(x=\"pickup_hour\", y=\"pickup_longitude\", hue = 'boro_name_pickup', data=Trips_hour, ax=ax)\n",
    "ax.set(xlabel='Hour', ylabel='Number of trips')\n",
    "ax.set_xticks(np.arange(0, 24,1))\n",
    "#plt.xticks(rotation=90);\n",
    "plt.xticks\n",
    "#plt.ylim(0, 18000)\n",
    "plt.title('Yellow Cabs - Trips over a day');\n",
    "path = 'Results'\n",
    "plt.savefig(path + '/Images/yellow_trips_hour_borough.png')"
   ]
  },
  {
   "cell_type": "markdown",
   "metadata": {},
   "source": [
    "#### Boxplots"
   ]
  },
  {
   "cell_type": "code",
   "execution_count": null,
   "metadata": {},
   "outputs": [],
   "source": [
    "path = 'Dataset/Parquets'\n",
    "yellow_trips = pd.read_parquet(path + '/yellow_trips_filtered.parquet', engine = 'pyarrow')"
   ]
  },
  {
   "cell_type": "code",
   "execution_count": null,
   "metadata": {},
   "outputs": [],
   "source": [
    "yellow_trips['pickup_month_dt'] = pd.to_datetime(yellow_trips['pickup_datetime']).dt.to_period('M')\n",
    "yellow_trips['pickup_date'] = pd.to_datetime(yellow_trips['pickup_datetime']).dt.to_period('d')\n",
    "yellow_trips['pickup_hour'] = pd.to_datetime(yellow_trips['pickup_datetime']).dt.hour\n",
    "yellow_trips['pickup_weekday'] = yellow_trips['pickup_datetime'].dt.dayofweek\n",
    "yellow_trips['weekend'] = np.where(yellow_trips['pickup_weekday'] <= 4, False, True)\n",
    "yellow_trips['rush'] = np.where(((yellow_trips['pickup_hour'] >= 6) & (yellow_trips['pickup_hour'] <= 9)) |\n",
    "                               ((yellow_trips['pickup_hour'] >= 15) & (yellow_trips['pickup_hour'] <= 20)), True, False)"
   ]
  },
  {
   "cell_type": "code",
   "execution_count": null,
   "metadata": {},
   "outputs": [],
   "source": [
    "yellow_trips_day = yellow_trips.groupby(['pickup_month_dt', 'pickup_date', 'weekend', 'rush'])['passenger_count'].count().reset_index(name = 'trips')\n",
    "yellow_trips_day.head()"
   ]
  },
  {
   "cell_type": "code",
   "execution_count": null,
   "metadata": {},
   "outputs": [],
   "source": [
    "fig, ax = plt.subplots(figsize = plotsize)\n",
    "m = sns.boxplot(x=\"pickup_month_dt\", y=\"trips\", hue = 'rush', data=yellow_trips_day, ax=ax)\n",
    "ax.set(xlabel='Month', ylabel='Number of trips')\n",
    "#ax.set_xticks(np.arange(0, 24,1))\n",
    "#plt.xticks(rotation=90);\n",
    "plt.xticks\n",
    "#plt.ylim(0, 18000)\n",
    "plt.title('Yellow - Trips over month per rush hours');\n",
    "path = 'Results'\n",
    "plt.savefig(path + '/Images/yellow_trips_month_rush.png')"
   ]
  },
  {
   "cell_type": "code",
   "execution_count": null,
   "metadata": {},
   "outputs": [],
   "source": [
    "fig, ax = plt.subplots(figsize = plotsize)\n",
    "m = sns.boxplot(x=\"pickup_month_dt\", y=\"trips\", hue = 'weekend', data=yellow_trips_day, ax=ax)\n",
    "ax.set(xlabel='Month', ylabel='Number of trips')\n",
    "#ax.set_xticks(np.arange(0, 24,1))\n",
    "#plt.xticks(rotation=90);\n",
    "plt.xticks\n",
    "#plt.ylim(0, 18000)\n",
    "plt.title('Yellow - Trips over month per weekends');\n",
    "path = 'Results'\n",
    "plt.savefig(path + '/Images/yellow_trips_month_weekend.png')"
   ]
  },
  {
   "cell_type": "code",
   "execution_count": null,
   "metadata": {},
   "outputs": [],
   "source": [
    "yellow_trips_day = yellow_trips.groupby(['pickup_month_dt', 'pickup_date'])['trip_distance'].mean().reset_index(name = 'avg_trip_distance')\n",
    "yellow_trips_day.head()"
   ]
  },
  {
   "cell_type": "code",
   "execution_count": null,
   "metadata": {},
   "outputs": [],
   "source": [
    "fig, ax = plt.subplots(figsize = plotsize)\n",
    "m = sns.boxplot(x=\"pickup_month_dt\", y=\"avg_trip_distance\", data=yellow_trips_day, ax=ax)\n",
    "ax.set(xlabel='Month', ylabel='Average distance')\n",
    "#ax.set_xticks(np.arange(0, 24,1))\n",
    "#plt.xticks(rotation=90);\n",
    "plt.xticks\n",
    "plt.ylim(0, 5)\n",
    "plt.title('Yellow - Average distance over months');\n",
    "path = 'Results'\n",
    "plt.savefig(path + '/Images/yellow_avgdistance_month.png')"
   ]
  }
 ],
 "metadata": {
  "kernelspec": {
   "display_name": "Python 3",
   "language": "python",
   "name": "python3"
  },
  "language_info": {
   "codemirror_mode": {
    "name": "ipython",
    "version": 3
   },
   "file_extension": ".py",
   "mimetype": "text/x-python",
   "name": "python",
   "nbconvert_exporter": "python",
   "pygments_lexer": "ipython3",
   "version": "3.7.3"
  }
 },
 "nbformat": 4,
 "nbformat_minor": 2
}
