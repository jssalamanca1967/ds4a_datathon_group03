{
 "cells": [
  {
   "cell_type": "code",
   "execution_count": 1,
   "metadata": {},
   "outputs": [],
   "source": [
    "import pandas as pd\n",
    "import os\n",
    "import numpy as np\n",
    "import pandas_profiling\n",
    "\n",
    "# This line is needed to display plots inline in Jupyter Notebook\n",
    "%matplotlib inline\n",
    "\n",
    "# Required for basic python plotting functionality\n",
    "import matplotlib.pyplot as plt\n",
    "\n",
    "# Required for formatting dates later in the case\n",
    "import datetime\n",
    "import matplotlib.dates as mdates\n",
    "\n",
    "# Required to display image inline\n",
    "from IPython.display import Image\n",
    "\n",
    "# Advanced plotting functionality with seaborn\n",
    "import seaborn as sns\n",
    "sns.set(style=\"whitegrid\") # can set style depending on how you'd like it to look\n",
    "\n",
    "import folium  #needed for interactive map\n",
    "from folium.plugins import HeatMap\n",
    "\n",
    "import geopandas\n",
    "from shapely.geometry import Polygon\n",
    "from shapely.geometry import Point\n",
    "from geopandas import GeoDataFrame"
   ]
  },
  {
   "cell_type": "code",
   "execution_count": 45,
   "metadata": {},
   "outputs": [],
   "source": [
    "path = 'C:/Users/johns/Documents/DS4A_workspace/Datathon/DataSet'\n",
    "green_trips = pd.read_parquet(path + '/Parquet/green_trips_filtered.parquet', engine = 'pyarrow')"
   ]
  },
  {
   "cell_type": "code",
   "execution_count": 46,
   "metadata": {},
   "outputs": [
    {
     "data": {
      "text/plain": [
       "pickup_datetime        datetime64[ns]\n",
       "dropoff_datetime       datetime64[ns]\n",
       "pickup_longitude              float64\n",
       "pickup_latitude               float64\n",
       "dropoff_longitude             float64\n",
       "dropoff_latitude              float64\n",
       "passenger_count                 int64\n",
       "trip_distance                 float64\n",
       "total_amount                  float64\n",
       "pickup_month                    int64\n",
       "dropoff_month                   int64\n",
       "amount_per_distance           float64\n",
       "dtype: object"
      ]
     },
     "execution_count": 46,
     "metadata": {},
     "output_type": "execute_result"
    }
   ],
   "source": [
    "green_trips.dtypes"
   ]
  },
  {
   "cell_type": "code",
   "execution_count": 47,
   "metadata": {},
   "outputs": [],
   "source": [
    "green_trips['pickup_month_dt'] = pd.to_datetime(green_trips['pickup_datetime']).dt.to_period('M')\n",
    "green_trips['pickup_date'] = pd.to_datetime(green_trips['pickup_datetime']).dt.to_period('d')\n",
    "green_trips['pickup_hour'] = pd.to_datetime(green_trips['pickup_datetime']).dt.hour\n",
    "green_trips['pickup_weekday'] = green_trips['pickup_datetime'].dt.dayofweek\n",
    "green_trips['weekend'] = np.where(green_trips['pickup_weekday'] <= 4, False, True)\n",
    "green_trips['rush'] = np.where(((green_trips['pickup_hour'] >= 6) & (green_trips['pickup_hour'] <= 9)) |\n",
    "                               ((green_trips['pickup_hour'] >= 15) & (green_trips['pickup_hour'] <= 20)), True, False)"
   ]
  },
  {
   "cell_type": "code",
   "execution_count": 48,
   "metadata": {
    "scrolled": true
   },
   "outputs": [
    {
     "data": {
      "text/html": [
       "<div>\n",
       "<style scoped>\n",
       "    .dataframe tbody tr th:only-of-type {\n",
       "        vertical-align: middle;\n",
       "    }\n",
       "\n",
       "    .dataframe tbody tr th {\n",
       "        vertical-align: top;\n",
       "    }\n",
       "\n",
       "    .dataframe thead th {\n",
       "        text-align: right;\n",
       "    }\n",
       "</style>\n",
       "<table border=\"1\" class=\"dataframe\">\n",
       "  <thead>\n",
       "    <tr style=\"text-align: right;\">\n",
       "      <th></th>\n",
       "      <th>pickup_datetime</th>\n",
       "      <th>dropoff_datetime</th>\n",
       "      <th>pickup_longitude</th>\n",
       "      <th>pickup_latitude</th>\n",
       "      <th>dropoff_longitude</th>\n",
       "      <th>dropoff_latitude</th>\n",
       "      <th>passenger_count</th>\n",
       "      <th>trip_distance</th>\n",
       "      <th>total_amount</th>\n",
       "      <th>pickup_month</th>\n",
       "      <th>dropoff_month</th>\n",
       "      <th>amount_per_distance</th>\n",
       "      <th>pickup_month_dt</th>\n",
       "      <th>pickup_date</th>\n",
       "      <th>pickup_hour</th>\n",
       "      <th>pickup_weekday</th>\n",
       "      <th>weekend</th>\n",
       "      <th>rush</th>\n",
       "    </tr>\n",
       "  </thead>\n",
       "  <tbody>\n",
       "    <tr>\n",
       "      <td>0</td>\n",
       "      <td>2015-02-01 01:26:45</td>\n",
       "      <td>2015-02-01 01:26:45</td>\n",
       "      <td>-73.953545</td>\n",
       "      <td>40.811172</td>\n",
       "      <td>-73.984764</td>\n",
       "      <td>40.728386</td>\n",
       "      <td>1</td>\n",
       "      <td>8.11</td>\n",
       "      <td>27.8</td>\n",
       "      <td>201502</td>\n",
       "      <td>201502</td>\n",
       "      <td>3.427867</td>\n",
       "      <td>2015-02</td>\n",
       "      <td>2015-02-01</td>\n",
       "      <td>1</td>\n",
       "      <td>6</td>\n",
       "      <td>True</td>\n",
       "      <td>False</td>\n",
       "    </tr>\n",
       "    <tr>\n",
       "      <td>1</td>\n",
       "      <td>2015-01-02 20:06:28</td>\n",
       "      <td>2015-01-02 20:06:28</td>\n",
       "      <td>-73.946709</td>\n",
       "      <td>40.714321</td>\n",
       "      <td>-73.961571</td>\n",
       "      <td>40.711475</td>\n",
       "      <td>1</td>\n",
       "      <td>1.29</td>\n",
       "      <td>9.8</td>\n",
       "      <td>201501</td>\n",
       "      <td>201501</td>\n",
       "      <td>7.596899</td>\n",
       "      <td>2015-01</td>\n",
       "      <td>2015-01-02</td>\n",
       "      <td>20</td>\n",
       "      <td>4</td>\n",
       "      <td>False</td>\n",
       "      <td>True</td>\n",
       "    </tr>\n",
       "    <tr>\n",
       "      <td>2</td>\n",
       "      <td>2014-09-27 17:55:38</td>\n",
       "      <td>2014-09-27 17:55:38</td>\n",
       "      <td>-73.957626</td>\n",
       "      <td>40.718094</td>\n",
       "      <td>-73.947304</td>\n",
       "      <td>40.777813</td>\n",
       "      <td>5</td>\n",
       "      <td>6.12</td>\n",
       "      <td>26.3</td>\n",
       "      <td>201409</td>\n",
       "      <td>201409</td>\n",
       "      <td>4.297386</td>\n",
       "      <td>2014-09</td>\n",
       "      <td>2014-09-27</td>\n",
       "      <td>17</td>\n",
       "      <td>5</td>\n",
       "      <td>True</td>\n",
       "      <td>True</td>\n",
       "    </tr>\n",
       "    <tr>\n",
       "      <td>3</td>\n",
       "      <td>2014-04-27 02:27:04</td>\n",
       "      <td>2014-04-27 02:27:04</td>\n",
       "      <td>-73.949501</td>\n",
       "      <td>40.713997</td>\n",
       "      <td>-73.987785</td>\n",
       "      <td>40.718582</td>\n",
       "      <td>2</td>\n",
       "      <td>3.68</td>\n",
       "      <td>17.3</td>\n",
       "      <td>201404</td>\n",
       "      <td>201404</td>\n",
       "      <td>4.701087</td>\n",
       "      <td>2014-04</td>\n",
       "      <td>2014-04-27</td>\n",
       "      <td>2</td>\n",
       "      <td>6</td>\n",
       "      <td>True</td>\n",
       "      <td>False</td>\n",
       "    </tr>\n",
       "    <tr>\n",
       "      <td>4</td>\n",
       "      <td>2014-05-26 18:32:19</td>\n",
       "      <td>2014-05-26 18:32:19</td>\n",
       "      <td>-73.944092</td>\n",
       "      <td>40.672195</td>\n",
       "      <td>-73.977325</td>\n",
       "      <td>40.664013</td>\n",
       "      <td>1</td>\n",
       "      <td>2.40</td>\n",
       "      <td>11.5</td>\n",
       "      <td>201405</td>\n",
       "      <td>201405</td>\n",
       "      <td>4.791667</td>\n",
       "      <td>2014-05</td>\n",
       "      <td>2014-05-26</td>\n",
       "      <td>18</td>\n",
       "      <td>0</td>\n",
       "      <td>False</td>\n",
       "      <td>True</td>\n",
       "    </tr>\n",
       "  </tbody>\n",
       "</table>\n",
       "</div>"
      ],
      "text/plain": [
       "      pickup_datetime    dropoff_datetime  pickup_longitude  pickup_latitude  \\\n",
       "0 2015-02-01 01:26:45 2015-02-01 01:26:45        -73.953545        40.811172   \n",
       "1 2015-01-02 20:06:28 2015-01-02 20:06:28        -73.946709        40.714321   \n",
       "2 2014-09-27 17:55:38 2014-09-27 17:55:38        -73.957626        40.718094   \n",
       "3 2014-04-27 02:27:04 2014-04-27 02:27:04        -73.949501        40.713997   \n",
       "4 2014-05-26 18:32:19 2014-05-26 18:32:19        -73.944092        40.672195   \n",
       "\n",
       "   dropoff_longitude  dropoff_latitude  passenger_count  trip_distance  \\\n",
       "0         -73.984764         40.728386                1           8.11   \n",
       "1         -73.961571         40.711475                1           1.29   \n",
       "2         -73.947304         40.777813                5           6.12   \n",
       "3         -73.987785         40.718582                2           3.68   \n",
       "4         -73.977325         40.664013                1           2.40   \n",
       "\n",
       "   total_amount  pickup_month  dropoff_month  amount_per_distance  \\\n",
       "0          27.8        201502         201502             3.427867   \n",
       "1           9.8        201501         201501             7.596899   \n",
       "2          26.3        201409         201409             4.297386   \n",
       "3          17.3        201404         201404             4.701087   \n",
       "4          11.5        201405         201405             4.791667   \n",
       "\n",
       "  pickup_month_dt pickup_date  pickup_hour  pickup_weekday  weekend   rush  \n",
       "0         2015-02  2015-02-01            1               6     True  False  \n",
       "1         2015-01  2015-01-02           20               4    False   True  \n",
       "2         2014-09  2014-09-27           17               5     True   True  \n",
       "3         2014-04  2014-04-27            2               6     True  False  \n",
       "4         2014-05  2014-05-26           18               0    False   True  "
      ]
     },
     "execution_count": 48,
     "metadata": {},
     "output_type": "execute_result"
    }
   ],
   "source": [
    "green_trips.head()"
   ]
  },
  {
   "cell_type": "code",
   "execution_count": 49,
   "metadata": {},
   "outputs": [
    {
     "data": {
      "text/html": [
       "<div>\n",
       "<style scoped>\n",
       "    .dataframe tbody tr th:only-of-type {\n",
       "        vertical-align: middle;\n",
       "    }\n",
       "\n",
       "    .dataframe tbody tr th {\n",
       "        vertical-align: top;\n",
       "    }\n",
       "\n",
       "    .dataframe thead th {\n",
       "        text-align: right;\n",
       "    }\n",
       "</style>\n",
       "<table border=\"1\" class=\"dataframe\">\n",
       "  <thead>\n",
       "    <tr style=\"text-align: right;\">\n",
       "      <th></th>\n",
       "      <th>pickup_month_dt</th>\n",
       "      <th>pickup_date</th>\n",
       "      <th>weekend</th>\n",
       "      <th>rush</th>\n",
       "      <th>trips</th>\n",
       "    </tr>\n",
       "  </thead>\n",
       "  <tbody>\n",
       "    <tr>\n",
       "      <td>0</td>\n",
       "      <td>2014-04</td>\n",
       "      <td>2014-04-01</td>\n",
       "      <td>False</td>\n",
       "      <td>False</td>\n",
       "      <td>3097</td>\n",
       "    </tr>\n",
       "    <tr>\n",
       "      <td>1</td>\n",
       "      <td>2014-04</td>\n",
       "      <td>2014-04-01</td>\n",
       "      <td>False</td>\n",
       "      <td>True</td>\n",
       "      <td>3607</td>\n",
       "    </tr>\n",
       "    <tr>\n",
       "      <td>2</td>\n",
       "      <td>2014-04</td>\n",
       "      <td>2014-04-02</td>\n",
       "      <td>False</td>\n",
       "      <td>False</td>\n",
       "      <td>3335</td>\n",
       "    </tr>\n",
       "    <tr>\n",
       "      <td>3</td>\n",
       "      <td>2014-04</td>\n",
       "      <td>2014-04-02</td>\n",
       "      <td>False</td>\n",
       "      <td>True</td>\n",
       "      <td>3726</td>\n",
       "    </tr>\n",
       "    <tr>\n",
       "      <td>4</td>\n",
       "      <td>2014-04</td>\n",
       "      <td>2014-04-03</td>\n",
       "      <td>False</td>\n",
       "      <td>False</td>\n",
       "      <td>3811</td>\n",
       "    </tr>\n",
       "  </tbody>\n",
       "</table>\n",
       "</div>"
      ],
      "text/plain": [
       "  pickup_month_dt pickup_date  weekend   rush  trips\n",
       "0         2014-04  2014-04-01    False  False   3097\n",
       "1         2014-04  2014-04-01    False   True   3607\n",
       "2         2014-04  2014-04-02    False  False   3335\n",
       "3         2014-04  2014-04-02    False   True   3726\n",
       "4         2014-04  2014-04-03    False  False   3811"
      ]
     },
     "execution_count": 49,
     "metadata": {},
     "output_type": "execute_result"
    }
   ],
   "source": [
    "green_trips_day = green_trips.groupby(['pickup_month_dt', 'pickup_date', 'weekend', 'rush'])['passenger_count'].count().reset_index(name = 'trips')\n",
    "green_trips_day.head()"
   ]
  },
  {
   "cell_type": "code",
   "execution_count": 50,
   "metadata": {},
   "outputs": [
    {
     "data": {
      "image/png": "[encoded data removed]",
      "text/plain": [
       "<Figure size 1080x360 with 1 Axes>"
      ]
     },
     "metadata": {
      "needs_background": "light"
     },
     "output_type": "display_data"
    }
   ],
   "source": [
    "fig, ax = plt.subplots(figsize=(15,5))\n",
    "m = sns.boxplot(x=\"pickup_month_dt\", y=\"trips\", hue = 'rush', data=green_trips_day, ax=ax)\n",
    "ax.set(xlabel='Month', ylabel='Number of trips')\n",
    "#ax.set_xticks(np.arange(0, 24,1))\n",
    "#plt.xticks(rotation=90);\n",
    "plt.xticks\n",
    "#plt.ylim(0, 18000)\n",
    "plt.title('Green - Trips over month on rush hours');\n",
    "plt.savefig(path + '/images/green_trips_month_rush.png')"
   ]
  },
  {
   "cell_type": "code",
   "execution_count": 72,
   "metadata": {
    "scrolled": true
   },
   "outputs": [
    {
     "data": {
      "image/png": "[encoded data removed]",
      "text/plain": [
       "<Figure size 1080x360 with 1 Axes>"
      ]
     },
     "metadata": {
      "needs_background": "light"
     },
     "output_type": "display_data"
    }
   ],
   "source": [
    "fig, ax = plt.subplots(figsize=(15,5))\n",
    "m = sns.boxplot(x=\"pickup_month_dt\", y=\"trips\", hue = 'weekend', data=green_trips_day, ax=ax)\n",
    "ax.set(xlabel='Month', ylabel='Number of trips')\n",
    "#ax.set_xticks(np.arange(0, 24,1))\n",
    "#plt.xticks(rotation=90);\n",
    "plt.xticks\n",
    "#plt.ylim(0, 18000)\n",
    "plt.title('Green - Trips over month on rush hours');\n",
    "plt.savefig(path + '/images/green_trips_month_weekend.png')"
   ]
  },
  {
   "cell_type": "code",
   "execution_count": 73,
   "metadata": {},
   "outputs": [
    {
     "data": {
      "text/html": [
       "<div>\n",
       "<style scoped>\n",
       "    .dataframe tbody tr th:only-of-type {\n",
       "        vertical-align: middle;\n",
       "    }\n",
       "\n",
       "    .dataframe tbody tr th {\n",
       "        vertical-align: top;\n",
       "    }\n",
       "\n",
       "    .dataframe thead th {\n",
       "        text-align: right;\n",
       "    }\n",
       "</style>\n",
       "<table border=\"1\" class=\"dataframe\">\n",
       "  <thead>\n",
       "    <tr style=\"text-align: right;\">\n",
       "      <th></th>\n",
       "      <th>pickup_month_dt</th>\n",
       "      <th>pickup_date</th>\n",
       "      <th>avg_trip_distance</th>\n",
       "    </tr>\n",
       "  </thead>\n",
       "  <tbody>\n",
       "    <tr>\n",
       "      <td>0</td>\n",
       "      <td>2014-04</td>\n",
       "      <td>2014-04-01</td>\n",
       "      <td>2.994603</td>\n",
       "    </tr>\n",
       "    <tr>\n",
       "      <td>1</td>\n",
       "      <td>2014-04</td>\n",
       "      <td>2014-04-02</td>\n",
       "      <td>3.012497</td>\n",
       "    </tr>\n",
       "    <tr>\n",
       "      <td>2</td>\n",
       "      <td>2014-04</td>\n",
       "      <td>2014-04-03</td>\n",
       "      <td>2.997237</td>\n",
       "    </tr>\n",
       "    <tr>\n",
       "      <td>3</td>\n",
       "      <td>2014-04</td>\n",
       "      <td>2014-04-04</td>\n",
       "      <td>2.956694</td>\n",
       "    </tr>\n",
       "    <tr>\n",
       "      <td>4</td>\n",
       "      <td>2014-04</td>\n",
       "      <td>2014-04-05</td>\n",
       "      <td>3.240686</td>\n",
       "    </tr>\n",
       "  </tbody>\n",
       "</table>\n",
       "</div>"
      ],
      "text/plain": [
       "  pickup_month_dt pickup_date  avg_trip_distance\n",
       "0         2014-04  2014-04-01           2.994603\n",
       "1         2014-04  2014-04-02           3.012497\n",
       "2         2014-04  2014-04-03           2.997237\n",
       "3         2014-04  2014-04-04           2.956694\n",
       "4         2014-04  2014-04-05           3.240686"
      ]
     },
     "execution_count": 73,
     "metadata": {},
     "output_type": "execute_result"
    }
   ],
   "source": [
    "green_trips_day = green_trips.groupby(['pickup_month_dt', 'pickup_date'])['trip_distance'].mean().reset_index(name = 'avg_trip_distance')\n",
    "green_trips_day.head()"
   ]
  },
  {
   "cell_type": "code",
   "execution_count": 75,
   "metadata": {},
   "outputs": [
    {
     "data": {
      "image/png": "[encoded data removed]",
      "text/plain": [
       "<Figure size 1080x360 with 1 Axes>"
      ]
     },
     "metadata": {
      "needs_background": "light"
     },
     "output_type": "display_data"
    }
   ],
   "source": [
    "fig, ax = plt.subplots(figsize=(15,5))\n",
    "m = sns.boxplot(x=\"pickup_month_dt\", y=\"avg_trip_distance\", data=green_trips_day, ax=ax)\n",
    "ax.set(xlabel='Month', ylabel='Average distance')\n",
    "#ax.set_xticks(np.arange(0, 24,1))\n",
    "#plt.xticks(rotation=90);\n",
    "plt.xticks\n",
    "#plt.ylim(0, 18000)\n",
    "plt.title('Green - Average distance over months');\n",
    "plt.savefig(path + '/images/green_avgdistance_month.png')"
   ]
  },
  {
   "cell_type": "code",
   "execution_count": 51,
   "metadata": {},
   "outputs": [],
   "source": [
    "path = 'C:/Users/johns/Documents/DS4A_workspace/Datathon/DataSet'\n",
    "mta_trips = pd.read_parquet(path + '/Parquet/mta_trips_filtered.parquet', engine = 'pyarrow')"
   ]
  },
  {
   "cell_type": "code",
   "execution_count": 52,
   "metadata": {},
   "outputs": [
    {
     "name": "stdout",
     "output_type": "stream",
     "text": [
      "(7554197, 10)\n",
      "(7554195, 10)\n"
     ]
    }
   ],
   "source": [
    "print(mta_trips.shape)\n",
    "mta_trips = mta_trips.loc[~mta_trips['datetime'].isna()]\n",
    "print(mta_trips.shape)"
   ]
  },
  {
   "cell_type": "code",
   "execution_count": 53,
   "metadata": {},
   "outputs": [
    {
     "data": {
      "text/html": [
       "<div>\n",
       "<style scoped>\n",
       "    .dataframe tbody tr th:only-of-type {\n",
       "        vertical-align: middle;\n",
       "    }\n",
       "\n",
       "    .dataframe tbody tr th {\n",
       "        vertical-align: top;\n",
       "    }\n",
       "\n",
       "    .dataframe thead th {\n",
       "        text-align: right;\n",
       "    }\n",
       "</style>\n",
       "<table border=\"1\" class=\"dataframe\">\n",
       "  <thead>\n",
       "    <tr style=\"text-align: right;\">\n",
       "      <th></th>\n",
       "      <th>station</th>\n",
       "      <th>line_name</th>\n",
       "      <th>division</th>\n",
       "      <th>audit_type</th>\n",
       "      <th>unit_id</th>\n",
       "      <th>datetime</th>\n",
       "      <th>new_entries</th>\n",
       "      <th>new_exits</th>\n",
       "      <th>latitude</th>\n",
       "      <th>longitude</th>\n",
       "    </tr>\n",
       "  </thead>\n",
       "  <tbody>\n",
       "    <tr>\n",
       "      <td>0</td>\n",
       "      <td>WHITEHALL ST</td>\n",
       "      <td>R1</td>\n",
       "      <td>BMT</td>\n",
       "      <td>REGULAR</td>\n",
       "      <td>R001_A058_01-00-00</td>\n",
       "      <td>2014-03-29 05:00:00</td>\n",
       "      <td>4</td>\n",
       "      <td>6</td>\n",
       "      <td>40.703087</td>\n",
       "      <td>-74.012994</td>\n",
       "    </tr>\n",
       "    <tr>\n",
       "      <td>1</td>\n",
       "      <td>WHITEHALL ST</td>\n",
       "      <td>R1</td>\n",
       "      <td>BMT</td>\n",
       "      <td>REGULAR</td>\n",
       "      <td>R001_A058_01-00-00</td>\n",
       "      <td>2014-03-29 09:00:00</td>\n",
       "      <td>1</td>\n",
       "      <td>13</td>\n",
       "      <td>40.703087</td>\n",
       "      <td>-74.012994</td>\n",
       "    </tr>\n",
       "    <tr>\n",
       "      <td>2</td>\n",
       "      <td>WHITEHALL ST</td>\n",
       "      <td>R1</td>\n",
       "      <td>BMT</td>\n",
       "      <td>REGULAR</td>\n",
       "      <td>R001_A058_01-00-00</td>\n",
       "      <td>2014-03-29 13:00:00</td>\n",
       "      <td>1</td>\n",
       "      <td>8</td>\n",
       "      <td>40.703087</td>\n",
       "      <td>-74.012994</td>\n",
       "    </tr>\n",
       "    <tr>\n",
       "      <td>3</td>\n",
       "      <td>WHITEHALL ST</td>\n",
       "      <td>R1</td>\n",
       "      <td>BMT</td>\n",
       "      <td>REGULAR</td>\n",
       "      <td>R001_A058_01-00-00</td>\n",
       "      <td>2014-03-29 17:00:00</td>\n",
       "      <td>1</td>\n",
       "      <td>8</td>\n",
       "      <td>40.703087</td>\n",
       "      <td>-74.012994</td>\n",
       "    </tr>\n",
       "    <tr>\n",
       "      <td>4</td>\n",
       "      <td>WHITEHALL ST</td>\n",
       "      <td>R1</td>\n",
       "      <td>BMT</td>\n",
       "      <td>REGULAR</td>\n",
       "      <td>R001_A058_01-00-00</td>\n",
       "      <td>2014-03-29 21:00:00</td>\n",
       "      <td>2</td>\n",
       "      <td>3</td>\n",
       "      <td>40.703087</td>\n",
       "      <td>-74.012994</td>\n",
       "    </tr>\n",
       "  </tbody>\n",
       "</table>\n",
       "</div>"
      ],
      "text/plain": [
       "        station line_name division audit_type             unit_id  \\\n",
       "0  WHITEHALL ST        R1      BMT    REGULAR  R001_A058_01-00-00   \n",
       "1  WHITEHALL ST        R1      BMT    REGULAR  R001_A058_01-00-00   \n",
       "2  WHITEHALL ST        R1      BMT    REGULAR  R001_A058_01-00-00   \n",
       "3  WHITEHALL ST        R1      BMT    REGULAR  R001_A058_01-00-00   \n",
       "4  WHITEHALL ST        R1      BMT    REGULAR  R001_A058_01-00-00   \n",
       "\n",
       "             datetime  new_entries  new_exits   latitude  longitude  \n",
       "0 2014-03-29 05:00:00            4          6  40.703087 -74.012994  \n",
       "1 2014-03-29 09:00:00            1         13  40.703087 -74.012994  \n",
       "2 2014-03-29 13:00:00            1          8  40.703087 -74.012994  \n",
       "3 2014-03-29 17:00:00            1          8  40.703087 -74.012994  \n",
       "4 2014-03-29 21:00:00            2          3  40.703087 -74.012994  "
      ]
     },
     "execution_count": 53,
     "metadata": {},
     "output_type": "execute_result"
    }
   ],
   "source": [
    "mta_trips.head()"
   ]
  },
  {
   "cell_type": "code",
   "execution_count": 54,
   "metadata": {},
   "outputs": [],
   "source": [
    "mta_trips['pickup_month_dt'] = pd.to_datetime(mta_trips['datetime']).dt.to_period('M')\n",
    "mta_trips['pickup_date'] = pd.to_datetime(mta_trips['datetime']).dt.to_period('d')\n",
    "mta_trips['pickup_hour'] = pd.to_datetime(mta_trips['datetime']).dt.hour\n",
    "mta_trips['pickup_weekday'] = mta_trips['datetime'].dt.dayofweek\n",
    "mta_trips['weekend'] = np.where(mta_trips['pickup_weekday'] <= 4, False, True)\n",
    "mta_trips['rush'] = np.where(((mta_trips['pickup_hour'] >= 6) & (mta_trips['pickup_hour'] <= 9)) |\n",
    "                               ((mta_trips['pickup_hour'] >= 15) & (mta_trips['pickup_hour'] <= 20)), True, False)"
   ]
  },
  {
   "cell_type": "code",
   "execution_count": 68,
   "metadata": {},
   "outputs": [
    {
     "data": {
      "text/html": [
       "<div>\n",
       "<style scoped>\n",
       "    .dataframe tbody tr th:only-of-type {\n",
       "        vertical-align: middle;\n",
       "    }\n",
       "\n",
       "    .dataframe tbody tr th {\n",
       "        vertical-align: top;\n",
       "    }\n",
       "\n",
       "    .dataframe thead th {\n",
       "        text-align: right;\n",
       "    }\n",
       "</style>\n",
       "<table border=\"1\" class=\"dataframe\">\n",
       "  <thead>\n",
       "    <tr style=\"text-align: right;\">\n",
       "      <th></th>\n",
       "      <th>pickup_month_dt</th>\n",
       "      <th>pickup_date</th>\n",
       "      <th>weekend</th>\n",
       "      <th>rush</th>\n",
       "      <th>trips</th>\n",
       "      <th>new_entries</th>\n",
       "    </tr>\n",
       "  </thead>\n",
       "  <tbody>\n",
       "    <tr>\n",
       "      <td>0</td>\n",
       "      <td>2014-03</td>\n",
       "      <td>2014-03-29</td>\n",
       "      <td>True</td>\n",
       "      <td>False</td>\n",
       "      <td>8117</td>\n",
       "      <td>1017227</td>\n",
       "    </tr>\n",
       "    <tr>\n",
       "      <td>1</td>\n",
       "      <td>2014-03</td>\n",
       "      <td>2014-03-29</td>\n",
       "      <td>True</td>\n",
       "      <td>True</td>\n",
       "      <td>8732</td>\n",
       "      <td>1568051</td>\n",
       "    </tr>\n",
       "    <tr>\n",
       "      <td>2</td>\n",
       "      <td>2014-03</td>\n",
       "      <td>2014-03-30</td>\n",
       "      <td>True</td>\n",
       "      <td>False</td>\n",
       "      <td>11336</td>\n",
       "      <td>1204483</td>\n",
       "    </tr>\n",
       "    <tr>\n",
       "      <td>3</td>\n",
       "      <td>2014-03</td>\n",
       "      <td>2014-03-30</td>\n",
       "      <td>True</td>\n",
       "      <td>True</td>\n",
       "      <td>8604</td>\n",
       "      <td>1241499</td>\n",
       "    </tr>\n",
       "    <tr>\n",
       "      <td>4</td>\n",
       "      <td>2014-03</td>\n",
       "      <td>2014-03-31</td>\n",
       "      <td>False</td>\n",
       "      <td>False</td>\n",
       "      <td>11519</td>\n",
       "      <td>1914322</td>\n",
       "    </tr>\n",
       "  </tbody>\n",
       "</table>\n",
       "</div>"
      ],
      "text/plain": [
       "  pickup_month_dt pickup_date  weekend   rush  trips  new_entries\n",
       "0         2014-03  2014-03-29     True  False   8117      1017227\n",
       "1         2014-03  2014-03-29     True   True   8732      1568051\n",
       "2         2014-03  2014-03-30     True  False  11336      1204483\n",
       "3         2014-03  2014-03-30     True   True   8604      1241499\n",
       "4         2014-03  2014-03-31    False  False  11519      1914322"
      ]
     },
     "execution_count": 68,
     "metadata": {},
     "output_type": "execute_result"
    }
   ],
   "source": [
    "mta_trips_day = mta_trips.groupby(['pickup_month_dt', 'pickup_date', 'weekend', 'rush'])['new_entries'].count().reset_index(name = 'trips')\n",
    "mta_trips_day['new_entries'] = mta_trips.groupby(['pickup_month_dt', 'pickup_date', 'weekend', 'rush'])['new_entries'].sum().reset_index()['new_entries']#['new_entries']\n",
    "mta_trips_day.head()"
   ]
  },
  {
   "cell_type": "code",
   "execution_count": 70,
   "metadata": {},
   "outputs": [
    {
     "data": {
      "image/png": "[encoded data removed]",
      "text/plain": [
       "<Figure size 1080x360 with 1 Axes>"
      ]
     },
     "metadata": {
      "needs_background": "light"
     },
     "output_type": "display_data"
    }
   ],
   "source": [
    "fig, ax = plt.subplots(figsize=(15,5))\n",
    "m = sns.boxplot(x=\"pickup_month_dt\", y=\"trips\", hue = 'rush', data=mta_trips_day, ax=ax)\n",
    "ax.set(xlabel='Month', ylabel='Number of trips')\n",
    "#ax.set_xticks(np.arange(0, 24,1))\n",
    "#plt.xticks(rotation=90);\n",
    "plt.xticks\n",
    "#plt.ylim(0, 18000)\n",
    "plt.title('MTA - Trips over month on rush hours');\n",
    "plt.savefig(path + '/images/mta_trips_month_rush.png')"
   ]
  },
  {
   "cell_type": "code",
   "execution_count": 62,
   "metadata": {},
   "outputs": [
    {
     "data": {
      "text/html": [
       "<div>\n",
       "<style scoped>\n",
       "    .dataframe tbody tr th:only-of-type {\n",
       "        vertical-align: middle;\n",
       "    }\n",
       "\n",
       "    .dataframe tbody tr th {\n",
       "        vertical-align: top;\n",
       "    }\n",
       "\n",
       "    .dataframe thead th {\n",
       "        text-align: right;\n",
       "    }\n",
       "</style>\n",
       "<table border=\"1\" class=\"dataframe\">\n",
       "  <thead>\n",
       "    <tr style=\"text-align: right;\">\n",
       "      <th></th>\n",
       "      <th>pickup_month_dt</th>\n",
       "      <th>pickup_date</th>\n",
       "      <th>weekend</th>\n",
       "      <th>rush</th>\n",
       "      <th>trips</th>\n",
       "      <th>new_entries</th>\n",
       "    </tr>\n",
       "  </thead>\n",
       "  <tbody>\n",
       "    <tr>\n",
       "      <td>0</td>\n",
       "      <td>2014-03</td>\n",
       "      <td>2014-03-29</td>\n",
       "      <td>True</td>\n",
       "      <td>False</td>\n",
       "      <td>8117</td>\n",
       "      <td>1017227</td>\n",
       "    </tr>\n",
       "    <tr>\n",
       "      <td>1</td>\n",
       "      <td>2014-03</td>\n",
       "      <td>2014-03-29</td>\n",
       "      <td>True</td>\n",
       "      <td>True</td>\n",
       "      <td>8732</td>\n",
       "      <td>1568051</td>\n",
       "    </tr>\n",
       "    <tr>\n",
       "      <td>2</td>\n",
       "      <td>2014-03</td>\n",
       "      <td>2014-03-30</td>\n",
       "      <td>True</td>\n",
       "      <td>False</td>\n",
       "      <td>11336</td>\n",
       "      <td>1017227</td>\n",
       "    </tr>\n",
       "    <tr>\n",
       "      <td>3</td>\n",
       "      <td>2014-03</td>\n",
       "      <td>2014-03-30</td>\n",
       "      <td>True</td>\n",
       "      <td>True</td>\n",
       "      <td>8604</td>\n",
       "      <td>1568051</td>\n",
       "    </tr>\n",
       "    <tr>\n",
       "      <td>4</td>\n",
       "      <td>2014-03</td>\n",
       "      <td>2014-03-31</td>\n",
       "      <td>False</td>\n",
       "      <td>False</td>\n",
       "      <td>11519</td>\n",
       "      <td>1017227</td>\n",
       "    </tr>\n",
       "  </tbody>\n",
       "</table>\n",
       "</div>"
      ],
      "text/plain": [
       "  pickup_month_dt pickup_date  weekend   rush  trips  new_entries\n",
       "0         2014-03  2014-03-29     True  False   8117      1017227\n",
       "1         2014-03  2014-03-29     True   True   8732      1568051\n",
       "2         2014-03  2014-03-30     True  False  11336      1017227\n",
       "3         2014-03  2014-03-30     True   True   8604      1568051\n",
       "4         2014-03  2014-03-31    False  False  11519      1017227"
      ]
     },
     "execution_count": 62,
     "metadata": {},
     "output_type": "execute_result"
    }
   ],
   "source": [
    "mta_trips_day.head()"
   ]
  },
  {
   "cell_type": "code",
   "execution_count": 71,
   "metadata": {},
   "outputs": [
    {
     "data": {
      "image/png": "[encoded data removed]",
      "text/plain": [
       "<Figure size 1080x360 with 1 Axes>"
      ]
     },
     "metadata": {
      "needs_background": "light"
     },
     "output_type": "display_data"
    }
   ],
   "source": [
    "fig, ax = plt.subplots(figsize=(15,5))\n",
    "m = sns.boxplot(x=\"pickup_month_dt\", y=\"new_entries\", hue = 'rush', data=mta_trips_day, ax=ax)\n",
    "ax.set(xlabel='Month', ylabel='Number of trips')\n",
    "#ax.set_xticks(np.arange(0, 24,1))\n",
    "#plt.xticks(rotation=90);\n",
    "plt.xticks\n",
    "#plt.ylim(0, 18000)\n",
    "plt.title('MTA - Trips over month on rush hours');\n",
    "plt.savefig(path + '/images/mta_new_entries_month_rush.png')"
   ]
  }
 ],
 "metadata": {
  "kernelspec": {
   "display_name": "Python 3",
   "language": "python",
   "name": "python3"
  },
  "language_info": {
   "codemirror_mode": {
    "name": "ipython",
    "version": 3
   },
   "file_extension": ".py",
   "mimetype": "text/x-python",
   "name": "python",
   "nbconvert_exporter": "python",
   "pygments_lexer": "ipython3",
   "version": "3.7.3"
  }
 },
 "nbformat": 4,
 "nbformat_minor": 2
}
