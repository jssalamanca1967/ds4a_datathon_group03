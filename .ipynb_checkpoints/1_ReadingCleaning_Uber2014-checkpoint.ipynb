{
 "cells": [
  {
   "cell_type": "code",
   "execution_count": 2,
   "metadata": {},
   "outputs": [],
   "source": [
    "import pandas as pd\n",
    "import os\n",
    "import numpy as np\n",
    "import pandas_profiling\n",
    "\n",
    "# This line is needed to display plots inline in Jupyter Notebook\n",
    "%matplotlib inline\n",
    "\n",
    "# Required for basic python plotting functionality\n",
    "import matplotlib.pyplot as plt\n",
    "# Required for formatting dates later in the case\n",
    "import datetime\n",
    "import matplotlib.dates as mdates\n",
    "\n",
    "# Required to display image inline\n",
    "from IPython.display import Image\n",
    "\n",
    "# Advanced plotting functionality with seaborn\n",
    "import seaborn as sns\n",
    "sns.set(style=\"whitegrid\") # can set style depending on how you'd like it to look\n",
    "\n",
    "import folium  #needed for interactive map\n",
    "from folium.plugins import HeatMap\n",
    "\n",
    "import geopandas\n",
    "from shapely.geometry import Polygon\n",
    "from shapely.geometry import Point\n",
    "from geopandas import GeoDataFrame"
   ]
  },
  {
   "cell_type": "code",
   "execution_count": 3,
   "metadata": {},
   "outputs": [],
   "source": [
    "path = 'DataSet/Original' \n",
    "file = 'uber_trips_2014.csv'\n",
    "\n",
    "uber_trips = pd.read_csv(path + '/' + file, sep = ',', doublequote = True)"
   ]
  },
  {
   "cell_type": "code",
   "execution_count": 4,
   "metadata": {},
   "outputs": [
    {
     "data": {
      "text/html": [
       "<div>\n",
       "<style scoped>\n",
       "    .dataframe tbody tr th:only-of-type {\n",
       "        vertical-align: middle;\n",
       "    }\n",
       "\n",
       "    .dataframe tbody tr th {\n",
       "        vertical-align: top;\n",
       "    }\n",
       "\n",
       "    .dataframe thead th {\n",
       "        text-align: right;\n",
       "    }\n",
       "</style>\n",
       "<table border=\"1\" class=\"dataframe\">\n",
       "  <thead>\n",
       "    <tr style=\"text-align: right;\">\n",
       "      <th></th>\n",
       "      <th>pickup_datetime</th>\n",
       "      <th>pickup_latitude</th>\n",
       "      <th>pickup_longitude</th>\n",
       "      <th>base</th>\n",
       "    </tr>\n",
       "  </thead>\n",
       "  <tbody>\n",
       "    <tr>\n",
       "      <td>0</td>\n",
       "      <td>4/1/14 0:11</td>\n",
       "      <td>40.7690</td>\n",
       "      <td>-73.9549</td>\n",
       "      <td>B02512</td>\n",
       "    </tr>\n",
       "    <tr>\n",
       "      <td>1</td>\n",
       "      <td>4/1/14 0:17</td>\n",
       "      <td>40.7267</td>\n",
       "      <td>-74.0345</td>\n",
       "      <td>B02512</td>\n",
       "    </tr>\n",
       "    <tr>\n",
       "      <td>2</td>\n",
       "      <td>4/1/14 0:21</td>\n",
       "      <td>40.7316</td>\n",
       "      <td>-73.9873</td>\n",
       "      <td>B02512</td>\n",
       "    </tr>\n",
       "    <tr>\n",
       "      <td>3</td>\n",
       "      <td>4/1/14 0:28</td>\n",
       "      <td>40.7588</td>\n",
       "      <td>-73.9776</td>\n",
       "      <td>B02512</td>\n",
       "    </tr>\n",
       "    <tr>\n",
       "      <td>4</td>\n",
       "      <td>4/1/14 0:33</td>\n",
       "      <td>40.7594</td>\n",
       "      <td>-73.9722</td>\n",
       "      <td>B02512</td>\n",
       "    </tr>\n",
       "  </tbody>\n",
       "</table>\n",
       "</div>"
      ],
      "text/plain": [
       "  pickup_datetime  pickup_latitude  pickup_longitude    base\n",
       "0     4/1/14 0:11          40.7690          -73.9549  B02512\n",
       "1     4/1/14 0:17          40.7267          -74.0345  B02512\n",
       "2     4/1/14 0:21          40.7316          -73.9873  B02512\n",
       "3     4/1/14 0:28          40.7588          -73.9776  B02512\n",
       "4     4/1/14 0:33          40.7594          -73.9722  B02512"
      ]
     },
     "execution_count": 4,
     "metadata": {},
     "output_type": "execute_result"
    }
   ],
   "source": [
    "uber_trips.head()"
   ]
  },
  {
   "cell_type": "code",
   "execution_count": 6,
   "metadata": {},
   "outputs": [
    {
     "ename": "ValueError",
     "evalue": "unconverted data remains:  0:11",
     "output_type": "error",
     "traceback": [
      "\u001b[1;31m---------------------------------------------------------------------------\u001b[0m",
      "\u001b[1;31mTypeError\u001b[0m                                 Traceback (most recent call last)",
      "\u001b[1;32m~\\Anaconda3\\envs\\DS4A_test\\lib\\site-packages\\pandas\\core\\tools\\datetimes.py\u001b[0m in \u001b[0;36m_convert_listlike_datetimes\u001b[1;34m(arg, box, format, name, tz, unit, errors, infer_datetime_format, dayfirst, yearfirst, exact)\u001b[0m\n\u001b[0;32m    447\u001b[0m             \u001b[1;32mtry\u001b[0m\u001b[1;33m:\u001b[0m\u001b[1;33m\u001b[0m\u001b[1;33m\u001b[0m\u001b[0m\n\u001b[1;32m--> 448\u001b[1;33m                 \u001b[0mvalues\u001b[0m\u001b[1;33m,\u001b[0m \u001b[0mtz\u001b[0m \u001b[1;33m=\u001b[0m \u001b[0mconversion\u001b[0m\u001b[1;33m.\u001b[0m\u001b[0mdatetime_to_datetime64\u001b[0m\u001b[1;33m(\u001b[0m\u001b[0marg\u001b[0m\u001b[1;33m)\u001b[0m\u001b[1;33m\u001b[0m\u001b[1;33m\u001b[0m\u001b[0m\n\u001b[0m\u001b[0;32m    449\u001b[0m                 \u001b[1;32mreturn\u001b[0m \u001b[0mDatetimeIndex\u001b[0m\u001b[1;33m.\u001b[0m\u001b[0m_simple_new\u001b[0m\u001b[1;33m(\u001b[0m\u001b[0mvalues\u001b[0m\u001b[1;33m,\u001b[0m \u001b[0mname\u001b[0m\u001b[1;33m=\u001b[0m\u001b[0mname\u001b[0m\u001b[1;33m,\u001b[0m \u001b[0mtz\u001b[0m\u001b[1;33m=\u001b[0m\u001b[0mtz\u001b[0m\u001b[1;33m)\u001b[0m\u001b[1;33m\u001b[0m\u001b[1;33m\u001b[0m\u001b[0m\n",
      "\u001b[1;32mpandas/_libs/tslibs/conversion.pyx\u001b[0m in \u001b[0;36mpandas._libs.tslibs.conversion.datetime_to_datetime64\u001b[1;34m()\u001b[0m\n",
      "\u001b[1;31mTypeError\u001b[0m: Unrecognized value type: <class 'str'>",
      "\nDuring handling of the above exception, another exception occurred:\n",
      "\u001b[1;31mValueError\u001b[0m                                Traceback (most recent call last)",
      "\u001b[1;32m<ipython-input-6-8aef18b4aab0>\u001b[0m in \u001b[0;36m<module>\u001b[1;34m\u001b[0m\n\u001b[1;32m----> 1\u001b[1;33m \u001b[0muber_trips\u001b[0m\u001b[1;33m[\u001b[0m\u001b[1;34m'pickup_datetime'\u001b[0m\u001b[1;33m]\u001b[0m \u001b[1;33m=\u001b[0m \u001b[0mpd\u001b[0m\u001b[1;33m.\u001b[0m\u001b[0mto_datetime\u001b[0m\u001b[1;33m(\u001b[0m\u001b[0muber_trips\u001b[0m\u001b[1;33m[\u001b[0m\u001b[1;34m'pickup_datetime'\u001b[0m\u001b[1;33m]\u001b[0m\u001b[1;33m,\u001b[0m \u001b[0mformat\u001b[0m \u001b[1;33m=\u001b[0m \u001b[1;34m'%m/%d/%y'\u001b[0m\u001b[1;33m)\u001b[0m\u001b[1;33m\u001b[0m\u001b[1;33m\u001b[0m\u001b[0m\n\u001b[0m",
      "\u001b[1;32m~\\Anaconda3\\envs\\DS4A_test\\lib\\site-packages\\pandas\\util\\_decorators.py\u001b[0m in \u001b[0;36mwrapper\u001b[1;34m(*args, **kwargs)\u001b[0m\n\u001b[0;32m    206\u001b[0m                 \u001b[1;32melse\u001b[0m\u001b[1;33m:\u001b[0m\u001b[1;33m\u001b[0m\u001b[1;33m\u001b[0m\u001b[0m\n\u001b[0;32m    207\u001b[0m                     \u001b[0mkwargs\u001b[0m\u001b[1;33m[\u001b[0m\u001b[0mnew_arg_name\u001b[0m\u001b[1;33m]\u001b[0m \u001b[1;33m=\u001b[0m \u001b[0mnew_arg_value\u001b[0m\u001b[1;33m\u001b[0m\u001b[1;33m\u001b[0m\u001b[0m\n\u001b[1;32m--> 208\u001b[1;33m             \u001b[1;32mreturn\u001b[0m \u001b[0mfunc\u001b[0m\u001b[1;33m(\u001b[0m\u001b[1;33m*\u001b[0m\u001b[0margs\u001b[0m\u001b[1;33m,\u001b[0m \u001b[1;33m**\u001b[0m\u001b[0mkwargs\u001b[0m\u001b[1;33m)\u001b[0m\u001b[1;33m\u001b[0m\u001b[1;33m\u001b[0m\u001b[0m\n\u001b[0m\u001b[0;32m    209\u001b[0m \u001b[1;33m\u001b[0m\u001b[0m\n\u001b[0;32m    210\u001b[0m         \u001b[1;32mreturn\u001b[0m \u001b[0mwrapper\u001b[0m\u001b[1;33m\u001b[0m\u001b[1;33m\u001b[0m\u001b[0m\n",
      "\u001b[1;32m~\\Anaconda3\\envs\\DS4A_test\\lib\\site-packages\\pandas\\core\\tools\\datetimes.py\u001b[0m in \u001b[0;36mto_datetime\u001b[1;34m(arg, errors, dayfirst, yearfirst, utc, box, format, exact, unit, infer_datetime_format, origin, cache)\u001b[0m\n\u001b[0;32m    772\u001b[0m                 \u001b[0mresult\u001b[0m \u001b[1;33m=\u001b[0m \u001b[0mresult\u001b[0m\u001b[1;33m.\u001b[0m\u001b[0mtz_localize\u001b[0m\u001b[1;33m(\u001b[0m\u001b[0mtz\u001b[0m\u001b[1;33m)\u001b[0m\u001b[1;33m\u001b[0m\u001b[1;33m\u001b[0m\u001b[0m\n\u001b[0;32m    773\u001b[0m     \u001b[1;32melif\u001b[0m \u001b[0misinstance\u001b[0m\u001b[1;33m(\u001b[0m\u001b[0marg\u001b[0m\u001b[1;33m,\u001b[0m \u001b[0mABCSeries\u001b[0m\u001b[1;33m)\u001b[0m\u001b[1;33m:\u001b[0m\u001b[1;33m\u001b[0m\u001b[1;33m\u001b[0m\u001b[0m\n\u001b[1;32m--> 774\u001b[1;33m         \u001b[0mcache_array\u001b[0m \u001b[1;33m=\u001b[0m \u001b[0m_maybe_cache\u001b[0m\u001b[1;33m(\u001b[0m\u001b[0marg\u001b[0m\u001b[1;33m,\u001b[0m \u001b[0mformat\u001b[0m\u001b[1;33m,\u001b[0m \u001b[0mcache\u001b[0m\u001b[1;33m,\u001b[0m \u001b[0mconvert_listlike\u001b[0m\u001b[1;33m)\u001b[0m\u001b[1;33m\u001b[0m\u001b[1;33m\u001b[0m\u001b[0m\n\u001b[0m\u001b[0;32m    775\u001b[0m         \u001b[1;32mif\u001b[0m \u001b[1;32mnot\u001b[0m \u001b[0mcache_array\u001b[0m\u001b[1;33m.\u001b[0m\u001b[0mempty\u001b[0m\u001b[1;33m:\u001b[0m\u001b[1;33m\u001b[0m\u001b[1;33m\u001b[0m\u001b[0m\n\u001b[0;32m    776\u001b[0m             \u001b[0mresult\u001b[0m \u001b[1;33m=\u001b[0m \u001b[0marg\u001b[0m\u001b[1;33m.\u001b[0m\u001b[0mmap\u001b[0m\u001b[1;33m(\u001b[0m\u001b[0mcache_array\u001b[0m\u001b[1;33m)\u001b[0m\u001b[1;33m\u001b[0m\u001b[1;33m\u001b[0m\u001b[0m\n",
      "\u001b[1;32m~\\Anaconda3\\envs\\DS4A_test\\lib\\site-packages\\pandas\\core\\tools\\datetimes.py\u001b[0m in \u001b[0;36m_maybe_cache\u001b[1;34m(arg, format, cache, convert_listlike)\u001b[0m\n\u001b[0;32m    154\u001b[0m         \u001b[0munique_dates\u001b[0m \u001b[1;33m=\u001b[0m \u001b[0munique\u001b[0m\u001b[1;33m(\u001b[0m\u001b[0marg\u001b[0m\u001b[1;33m)\u001b[0m\u001b[1;33m\u001b[0m\u001b[1;33m\u001b[0m\u001b[0m\n\u001b[0;32m    155\u001b[0m         \u001b[1;32mif\u001b[0m \u001b[0mlen\u001b[0m\u001b[1;33m(\u001b[0m\u001b[0munique_dates\u001b[0m\u001b[1;33m)\u001b[0m \u001b[1;33m<\u001b[0m \u001b[0mlen\u001b[0m\u001b[1;33m(\u001b[0m\u001b[0marg\u001b[0m\u001b[1;33m)\u001b[0m\u001b[1;33m:\u001b[0m\u001b[1;33m\u001b[0m\u001b[1;33m\u001b[0m\u001b[0m\n\u001b[1;32m--> 156\u001b[1;33m             \u001b[0mcache_dates\u001b[0m \u001b[1;33m=\u001b[0m \u001b[0mconvert_listlike\u001b[0m\u001b[1;33m(\u001b[0m\u001b[0munique_dates\u001b[0m\u001b[1;33m,\u001b[0m \u001b[1;32mTrue\u001b[0m\u001b[1;33m,\u001b[0m \u001b[0mformat\u001b[0m\u001b[1;33m)\u001b[0m\u001b[1;33m\u001b[0m\u001b[1;33m\u001b[0m\u001b[0m\n\u001b[0m\u001b[0;32m    157\u001b[0m             \u001b[0mcache_array\u001b[0m \u001b[1;33m=\u001b[0m \u001b[0mSeries\u001b[0m\u001b[1;33m(\u001b[0m\u001b[0mcache_dates\u001b[0m\u001b[1;33m,\u001b[0m \u001b[0mindex\u001b[0m\u001b[1;33m=\u001b[0m\u001b[0munique_dates\u001b[0m\u001b[1;33m)\u001b[0m\u001b[1;33m\u001b[0m\u001b[1;33m\u001b[0m\u001b[0m\n\u001b[0;32m    158\u001b[0m     \u001b[1;32mreturn\u001b[0m \u001b[0mcache_array\u001b[0m\u001b[1;33m\u001b[0m\u001b[1;33m\u001b[0m\u001b[0m\n",
      "\u001b[1;32m~\\Anaconda3\\envs\\DS4A_test\\lib\\site-packages\\pandas\\core\\tools\\datetimes.py\u001b[0m in \u001b[0;36m_convert_listlike_datetimes\u001b[1;34m(arg, box, format, name, tz, unit, errors, infer_datetime_format, dayfirst, yearfirst, exact)\u001b[0m\n\u001b[0;32m    449\u001b[0m                 \u001b[1;32mreturn\u001b[0m \u001b[0mDatetimeIndex\u001b[0m\u001b[1;33m.\u001b[0m\u001b[0m_simple_new\u001b[0m\u001b[1;33m(\u001b[0m\u001b[0mvalues\u001b[0m\u001b[1;33m,\u001b[0m \u001b[0mname\u001b[0m\u001b[1;33m=\u001b[0m\u001b[0mname\u001b[0m\u001b[1;33m,\u001b[0m \u001b[0mtz\u001b[0m\u001b[1;33m=\u001b[0m\u001b[0mtz\u001b[0m\u001b[1;33m)\u001b[0m\u001b[1;33m\u001b[0m\u001b[1;33m\u001b[0m\u001b[0m\n\u001b[0;32m    450\u001b[0m             \u001b[1;32mexcept\u001b[0m \u001b[1;33m(\u001b[0m\u001b[0mValueError\u001b[0m\u001b[1;33m,\u001b[0m \u001b[0mTypeError\u001b[0m\u001b[1;33m)\u001b[0m\u001b[1;33m:\u001b[0m\u001b[1;33m\u001b[0m\u001b[1;33m\u001b[0m\u001b[0m\n\u001b[1;32m--> 451\u001b[1;33m                 \u001b[1;32mraise\u001b[0m \u001b[0me\u001b[0m\u001b[1;33m\u001b[0m\u001b[1;33m\u001b[0m\u001b[0m\n\u001b[0m\u001b[0;32m    452\u001b[0m \u001b[1;33m\u001b[0m\u001b[0m\n\u001b[0;32m    453\u001b[0m     \u001b[1;32mif\u001b[0m \u001b[0mresult\u001b[0m \u001b[1;32mis\u001b[0m \u001b[1;32mNone\u001b[0m\u001b[1;33m:\u001b[0m\u001b[1;33m\u001b[0m\u001b[1;33m\u001b[0m\u001b[0m\n",
      "\u001b[1;32m~\\Anaconda3\\envs\\DS4A_test\\lib\\site-packages\\pandas\\core\\tools\\datetimes.py\u001b[0m in \u001b[0;36m_convert_listlike_datetimes\u001b[1;34m(arg, box, format, name, tz, unit, errors, infer_datetime_format, dayfirst, yearfirst, exact)\u001b[0m\n\u001b[0;32m    414\u001b[0m                 \u001b[1;32mtry\u001b[0m\u001b[1;33m:\u001b[0m\u001b[1;33m\u001b[0m\u001b[1;33m\u001b[0m\u001b[0m\n\u001b[0;32m    415\u001b[0m                     result, timezones = array_strptime(\n\u001b[1;32m--> 416\u001b[1;33m                         \u001b[0marg\u001b[0m\u001b[1;33m,\u001b[0m \u001b[0mformat\u001b[0m\u001b[1;33m,\u001b[0m \u001b[0mexact\u001b[0m\u001b[1;33m=\u001b[0m\u001b[0mexact\u001b[0m\u001b[1;33m,\u001b[0m \u001b[0merrors\u001b[0m\u001b[1;33m=\u001b[0m\u001b[0merrors\u001b[0m\u001b[1;33m\u001b[0m\u001b[1;33m\u001b[0m\u001b[0m\n\u001b[0m\u001b[0;32m    417\u001b[0m                     )\n\u001b[0;32m    418\u001b[0m                     \u001b[1;32mif\u001b[0m \u001b[1;34m\"%Z\"\u001b[0m \u001b[1;32min\u001b[0m \u001b[0mformat\u001b[0m \u001b[1;32mor\u001b[0m \u001b[1;34m\"%z\"\u001b[0m \u001b[1;32min\u001b[0m \u001b[0mformat\u001b[0m\u001b[1;33m:\u001b[0m\u001b[1;33m\u001b[0m\u001b[1;33m\u001b[0m\u001b[0m\n",
      "\u001b[1;32mpandas/_libs/tslibs/strptime.pyx\u001b[0m in \u001b[0;36mpandas._libs.tslibs.strptime.array_strptime\u001b[1;34m()\u001b[0m\n",
      "\u001b[1;31mValueError\u001b[0m: unconverted data remains:  0:11"
     ]
    }
   ],
   "source": [
    "uber_trips['pickup_datetime'] = pd.to_datetime(uber_trips['pickup_datetime'], format = '%m/%d/%y')"
   ]
  },
  {
   "cell_type": "code",
   "execution_count": 5,
   "metadata": {},
   "outputs": [
    {
     "data": {
      "text/html": [
       "<div>\n",
       "<style scoped>\n",
       "    .dataframe tbody tr th:only-of-type {\n",
       "        vertical-align: middle;\n",
       "    }\n",
       "\n",
       "    .dataframe tbody tr th {\n",
       "        vertical-align: top;\n",
       "    }\n",
       "\n",
       "    .dataframe thead th {\n",
       "        text-align: right;\n",
       "    }\n",
       "</style>\n",
       "<table border=\"1\" class=\"dataframe\">\n",
       "  <thead>\n",
       "    <tr style=\"text-align: right;\">\n",
       "      <th></th>\n",
       "      <th>pickup_longitude</th>\n",
       "      <th>pickup_latitude</th>\n",
       "      <th>dropoff_longitude</th>\n",
       "      <th>dropoff_latitude</th>\n",
       "      <th>passenger_count</th>\n",
       "      <th>trip_distance</th>\n",
       "      <th>total_amount</th>\n",
       "    </tr>\n",
       "  </thead>\n",
       "  <tbody>\n",
       "    <tr>\n",
       "      <td>count</td>\n",
       "      <td>3.589048e+06</td>\n",
       "      <td>3.589048e+06</td>\n",
       "      <td>3.589048e+06</td>\n",
       "      <td>3.589048e+06</td>\n",
       "      <td>3.589048e+06</td>\n",
       "      <td>3.589048e+06</td>\n",
       "      <td>3.589048e+06</td>\n",
       "    </tr>\n",
       "    <tr>\n",
       "      <td>mean</td>\n",
       "      <td>-7.381415e+01</td>\n",
       "      <td>4.068699e+01</td>\n",
       "      <td>-7.382658e+01</td>\n",
       "      <td>4.069179e+01</td>\n",
       "      <td>1.404419e+00</td>\n",
       "      <td>2.949620e+00</td>\n",
       "      <td>1.478221e+01</td>\n",
       "    </tr>\n",
       "    <tr>\n",
       "      <td>std</td>\n",
       "      <td>2.976375e+00</td>\n",
       "      <td>1.641374e+00</td>\n",
       "      <td>2.812674e+00</td>\n",
       "      <td>1.550998e+00</td>\n",
       "      <td>1.094672e+00</td>\n",
       "      <td>2.980152e+00</td>\n",
       "      <td>2.977614e+01</td>\n",
       "    </tr>\n",
       "    <tr>\n",
       "      <td>min</td>\n",
       "      <td>-1.223996e+02</td>\n",
       "      <td>0.000000e+00</td>\n",
       "      <td>-1.223996e+02</td>\n",
       "      <td>0.000000e+00</td>\n",
       "      <td>0.000000e+00</td>\n",
       "      <td>0.000000e+00</td>\n",
       "      <td>-3.500000e+02</td>\n",
       "    </tr>\n",
       "    <tr>\n",
       "      <td>25%</td>\n",
       "      <td>-7.395853e+01</td>\n",
       "      <td>4.070282e+01</td>\n",
       "      <td>-7.396718e+01</td>\n",
       "      <td>4.070625e+01</td>\n",
       "      <td>1.000000e+00</td>\n",
       "      <td>1.100000e+00</td>\n",
       "      <td>7.800000e+00</td>\n",
       "    </tr>\n",
       "    <tr>\n",
       "      <td>50%</td>\n",
       "      <td>-7.394424e+01</td>\n",
       "      <td>4.074771e+01</td>\n",
       "      <td>-7.394400e+01</td>\n",
       "      <td>4.075044e+01</td>\n",
       "      <td>1.000000e+00</td>\n",
       "      <td>1.990000e+00</td>\n",
       "      <td>1.130000e+01</td>\n",
       "    </tr>\n",
       "    <tr>\n",
       "      <td>75%</td>\n",
       "      <td>-7.391512e+01</td>\n",
       "      <td>4.080492e+01</td>\n",
       "      <td>-7.390833e+01</td>\n",
       "      <td>4.079577e+01</td>\n",
       "      <td>1.000000e+00</td>\n",
       "      <td>3.780000e+00</td>\n",
       "      <td>1.800000e+01</td>\n",
       "    </tr>\n",
       "    <tr>\n",
       "      <td>max</td>\n",
       "      <td>0.000000e+00</td>\n",
       "      <td>4.278692e+01</td>\n",
       "      <td>0.000000e+00</td>\n",
       "      <td>4.316054e+01</td>\n",
       "      <td>9.000000e+00</td>\n",
       "      <td>4.395300e+02</td>\n",
       "      <td>5.119200e+04</td>\n",
       "    </tr>\n",
       "  </tbody>\n",
       "</table>\n",
       "</div>"
      ],
      "text/plain": [
       "       pickup_longitude  pickup_latitude  dropoff_longitude  dropoff_latitude  \\\n",
       "count      3.589048e+06     3.589048e+06       3.589048e+06      3.589048e+06   \n",
       "mean      -7.381415e+01     4.068699e+01      -7.382658e+01      4.069179e+01   \n",
       "std        2.976375e+00     1.641374e+00       2.812674e+00      1.550998e+00   \n",
       "min       -1.223996e+02     0.000000e+00      -1.223996e+02      0.000000e+00   \n",
       "25%       -7.395853e+01     4.070282e+01      -7.396718e+01      4.070625e+01   \n",
       "50%       -7.394424e+01     4.074771e+01      -7.394400e+01      4.075044e+01   \n",
       "75%       -7.391512e+01     4.080492e+01      -7.390833e+01      4.079577e+01   \n",
       "max        0.000000e+00     4.278692e+01       0.000000e+00      4.316054e+01   \n",
       "\n",
       "       passenger_count  trip_distance  total_amount  \n",
       "count     3.589048e+06   3.589048e+06  3.589048e+06  \n",
       "mean      1.404419e+00   2.949620e+00  1.478221e+01  \n",
       "std       1.094672e+00   2.980152e+00  2.977614e+01  \n",
       "min       0.000000e+00   0.000000e+00 -3.500000e+02  \n",
       "25%       1.000000e+00   1.100000e+00  7.800000e+00  \n",
       "50%       1.000000e+00   1.990000e+00  1.130000e+01  \n",
       "75%       1.000000e+00   3.780000e+00  1.800000e+01  \n",
       "max       9.000000e+00   4.395300e+02  5.119200e+04  "
      ]
     },
     "execution_count": 5,
     "metadata": {},
     "output_type": "execute_result"
    }
   ],
   "source": [
    "green_trips.describe()"
   ]
  },
  {
   "cell_type": "code",
   "execution_count": 6,
   "metadata": {},
   "outputs": [
    {
     "data": {
      "text/plain": [
       "pickup_datetime      0\n",
       "dropoff_datetime     0\n",
       "pickup_longitude     0\n",
       "pickup_latitude      0\n",
       "dropoff_longitude    0\n",
       "dropoff_latitude     0\n",
       "passenger_count      0\n",
       "trip_distance        0\n",
       "total_amount         0\n",
       "dtype: int64"
      ]
     },
     "execution_count": 6,
     "metadata": {},
     "output_type": "execute_result"
    }
   ],
   "source": [
    "green_trips.isna().sum()"
   ]
  },
  {
   "cell_type": "code",
   "execution_count": 7,
   "metadata": {},
   "outputs": [],
   "source": [
    "green_trips['pickup_month'] = green_trips['pickup_datetime'].dt.year*100 + green_trips['pickup_datetime'].dt.month\n",
    "green_trips['dropoff_month'] = green_trips['dropoff_datetime'].dt.year*100 + green_trips['dropoff_datetime'].dt.month"
   ]
  },
  {
   "cell_type": "code",
   "execution_count": 8,
   "metadata": {
    "scrolled": true
   },
   "outputs": [],
   "source": [
    "#green_trips.profile_report()"
   ]
  },
  {
   "cell_type": "code",
   "execution_count": 9,
   "metadata": {},
   "outputs": [
    {
     "data": {
      "text/plain": [
       "pickup_datetime      5824\n",
       "dropoff_datetime     5824\n",
       "pickup_longitude     5824\n",
       "pickup_latitude      5824\n",
       "dropoff_longitude    5824\n",
       "dropoff_latitude     5824\n",
       "passenger_count      5824\n",
       "trip_distance        5824\n",
       "total_amount         5824\n",
       "pickup_month         5824\n",
       "dropoff_month        5824\n",
       "dtype: int64"
      ]
     },
     "execution_count": 9,
     "metadata": {},
     "output_type": "execute_result"
    }
   ],
   "source": [
    "green_trips[green_trips['pickup_latitude'] == 0].count()"
   ]
  },
  {
   "cell_type": "code",
   "execution_count": 10,
   "metadata": {},
   "outputs": [
    {
     "data": {
      "text/plain": [
       "pickup_datetime      5824\n",
       "dropoff_datetime     5824\n",
       "pickup_longitude     5824\n",
       "pickup_latitude      5824\n",
       "dropoff_longitude    5824\n",
       "dropoff_latitude     5824\n",
       "passenger_count      5824\n",
       "trip_distance        5824\n",
       "total_amount         5824\n",
       "pickup_month         5824\n",
       "dropoff_month        5824\n",
       "dtype: int64"
      ]
     },
     "execution_count": 10,
     "metadata": {},
     "output_type": "execute_result"
    }
   ],
   "source": [
    "green_trips[green_trips['pickup_longitude'] == 0].count()"
   ]
  },
  {
   "cell_type": "code",
   "execution_count": 11,
   "metadata": {},
   "outputs": [
    {
     "data": {
      "text/plain": [
       "pickup_datetime      5199\n",
       "dropoff_datetime     5199\n",
       "pickup_longitude     5199\n",
       "pickup_latitude      5199\n",
       "dropoff_longitude    5199\n",
       "dropoff_latitude     5199\n",
       "passenger_count      5199\n",
       "trip_distance        5199\n",
       "total_amount         5199\n",
       "pickup_month         5199\n",
       "dropoff_month        5199\n",
       "dtype: int64"
      ]
     },
     "execution_count": 11,
     "metadata": {},
     "output_type": "execute_result"
    }
   ],
   "source": [
    "green_trips[green_trips['dropoff_longitude'] == 0].count()"
   ]
  },
  {
   "cell_type": "code",
   "execution_count": 12,
   "metadata": {},
   "outputs": [
    {
     "data": {
      "text/plain": [
       "pickup_datetime      5199\n",
       "dropoff_datetime     5199\n",
       "pickup_longitude     5199\n",
       "pickup_latitude      5199\n",
       "dropoff_longitude    5199\n",
       "dropoff_latitude     5199\n",
       "passenger_count      5199\n",
       "trip_distance        5199\n",
       "total_amount         5199\n",
       "pickup_month         5199\n",
       "dropoff_month        5199\n",
       "dtype: int64"
      ]
     },
     "execution_count": 12,
     "metadata": {},
     "output_type": "execute_result"
    }
   ],
   "source": [
    "green_trips[green_trips['dropoff_latitude'] == 0].count()"
   ]
  },
  {
   "cell_type": "code",
   "execution_count": 13,
   "metadata": {},
   "outputs": [
    {
     "data": {
      "text/plain": [
       "pickup_datetime      5199\n",
       "dropoff_datetime     5199\n",
       "pickup_longitude     5199\n",
       "pickup_latitude      5199\n",
       "dropoff_longitude    5199\n",
       "dropoff_latitude     5199\n",
       "passenger_count      5199\n",
       "trip_distance        5199\n",
       "total_amount         5199\n",
       "pickup_month         5199\n",
       "dropoff_month        5199\n",
       "dtype: int64"
      ]
     },
     "execution_count": 13,
     "metadata": {},
     "output_type": "execute_result"
    }
   ],
   "source": [
    "green_trips[green_trips['dropoff_latitude'] == 0 & (green_trips['pickup_longitude'] == 0)].count()"
   ]
  },
  {
   "cell_type": "code",
   "execution_count": 14,
   "metadata": {},
   "outputs": [
    {
     "data": {
      "text/html": [
       "<div>\n",
       "<style scoped>\n",
       "    .dataframe tbody tr th:only-of-type {\n",
       "        vertical-align: middle;\n",
       "    }\n",
       "\n",
       "    .dataframe tbody tr th {\n",
       "        vertical-align: top;\n",
       "    }\n",
       "\n",
       "    .dataframe thead th {\n",
       "        text-align: right;\n",
       "    }\n",
       "</style>\n",
       "<table border=\"1\" class=\"dataframe\">\n",
       "  <thead>\n",
       "    <tr style=\"text-align: right;\">\n",
       "      <th></th>\n",
       "      <th>pickup_datetime</th>\n",
       "      <th>dropoff_datetime</th>\n",
       "      <th>pickup_longitude</th>\n",
       "      <th>pickup_latitude</th>\n",
       "      <th>dropoff_longitude</th>\n",
       "      <th>dropoff_latitude</th>\n",
       "      <th>passenger_count</th>\n",
       "      <th>trip_distance</th>\n",
       "      <th>total_amount</th>\n",
       "      <th>pickup_month</th>\n",
       "      <th>dropoff_month</th>\n",
       "    </tr>\n",
       "  </thead>\n",
       "  <tbody>\n",
       "    <tr>\n",
       "      <td>496</td>\n",
       "      <td>2014-04-25 04:30:05</td>\n",
       "      <td>2014-04-25 04:30:05</td>\n",
       "      <td>-73.761314</td>\n",
       "      <td>40.697582</td>\n",
       "      <td>0.0</td>\n",
       "      <td>0.0</td>\n",
       "      <td>1</td>\n",
       "      <td>0.00</td>\n",
       "      <td>0.00</td>\n",
       "      <td>201404</td>\n",
       "      <td>201404</td>\n",
       "    </tr>\n",
       "    <tr>\n",
       "      <td>876</td>\n",
       "      <td>2014-06-09 17:54:06</td>\n",
       "      <td>2014-06-09 17:54:06</td>\n",
       "      <td>0.000000</td>\n",
       "      <td>0.000000</td>\n",
       "      <td>0.0</td>\n",
       "      <td>0.0</td>\n",
       "      <td>1</td>\n",
       "      <td>0.00</td>\n",
       "      <td>0.00</td>\n",
       "      <td>201406</td>\n",
       "      <td>201406</td>\n",
       "    </tr>\n",
       "    <tr>\n",
       "      <td>1608</td>\n",
       "      <td>2014-06-14 23:10:30</td>\n",
       "      <td>2014-06-14 23:10:30</td>\n",
       "      <td>0.000000</td>\n",
       "      <td>0.000000</td>\n",
       "      <td>0.0</td>\n",
       "      <td>0.0</td>\n",
       "      <td>1</td>\n",
       "      <td>2.13</td>\n",
       "      <td>16.75</td>\n",
       "      <td>201406</td>\n",
       "      <td>201406</td>\n",
       "    </tr>\n",
       "    <tr>\n",
       "      <td>2472</td>\n",
       "      <td>2014-08-23 03:08:23</td>\n",
       "      <td>2014-08-23 03:08:23</td>\n",
       "      <td>-73.962296</td>\n",
       "      <td>40.713051</td>\n",
       "      <td>0.0</td>\n",
       "      <td>0.0</td>\n",
       "      <td>1</td>\n",
       "      <td>6.14</td>\n",
       "      <td>22.00</td>\n",
       "      <td>201408</td>\n",
       "      <td>201408</td>\n",
       "    </tr>\n",
       "    <tr>\n",
       "      <td>2706</td>\n",
       "      <td>2015-05-26 08:41:16</td>\n",
       "      <td>2015-05-26 08:41:16</td>\n",
       "      <td>-73.952377</td>\n",
       "      <td>40.723316</td>\n",
       "      <td>0.0</td>\n",
       "      <td>0.0</td>\n",
       "      <td>1</td>\n",
       "      <td>0.00</td>\n",
       "      <td>20.30</td>\n",
       "      <td>201505</td>\n",
       "      <td>201505</td>\n",
       "    </tr>\n",
       "  </tbody>\n",
       "</table>\n",
       "</div>"
      ],
      "text/plain": [
       "         pickup_datetime    dropoff_datetime  pickup_longitude  \\\n",
       "496  2014-04-25 04:30:05 2014-04-25 04:30:05        -73.761314   \n",
       "876  2014-06-09 17:54:06 2014-06-09 17:54:06          0.000000   \n",
       "1608 2014-06-14 23:10:30 2014-06-14 23:10:30          0.000000   \n",
       "2472 2014-08-23 03:08:23 2014-08-23 03:08:23        -73.962296   \n",
       "2706 2015-05-26 08:41:16 2015-05-26 08:41:16        -73.952377   \n",
       "\n",
       "      pickup_latitude  dropoff_longitude  dropoff_latitude  passenger_count  \\\n",
       "496         40.697582                0.0               0.0                1   \n",
       "876          0.000000                0.0               0.0                1   \n",
       "1608         0.000000                0.0               0.0                1   \n",
       "2472        40.713051                0.0               0.0                1   \n",
       "2706        40.723316                0.0               0.0                1   \n",
       "\n",
       "      trip_distance  total_amount  pickup_month  dropoff_month  \n",
       "496            0.00          0.00        201404         201404  \n",
       "876            0.00          0.00        201406         201406  \n",
       "1608           2.13         16.75        201406         201406  \n",
       "2472           6.14         22.00        201408         201408  \n",
       "2706           0.00         20.30        201505         201505  "
      ]
     },
     "execution_count": 14,
     "metadata": {},
     "output_type": "execute_result"
    }
   ],
   "source": [
    "green_trips[green_trips['dropoff_latitude'] == 0 & (green_trips['pickup_longitude'] == 0)].head()"
   ]
  },
  {
   "cell_type": "code",
   "execution_count": 15,
   "metadata": {},
   "outputs": [
    {
     "data": {
      "text/plain": [
       "pickup_datetime      51452\n",
       "dropoff_datetime     51452\n",
       "pickup_longitude     51452\n",
       "pickup_latitude      51452\n",
       "dropoff_longitude    51452\n",
       "dropoff_latitude     51452\n",
       "passenger_count      51452\n",
       "trip_distance        51452\n",
       "total_amount         51452\n",
       "pickup_month         51452\n",
       "dropoff_month        51452\n",
       "dtype: int64"
      ]
     },
     "execution_count": 15,
     "metadata": {},
     "output_type": "execute_result"
    }
   ],
   "source": [
    "green_trips[green_trips['trip_distance'] == 0].count()"
   ]
  },
  {
   "cell_type": "code",
   "execution_count": 16,
   "metadata": {},
   "outputs": [
    {
     "data": {
      "text/html": [
       "<div>\n",
       "<style scoped>\n",
       "    .dataframe tbody tr th:only-of-type {\n",
       "        vertical-align: middle;\n",
       "    }\n",
       "\n",
       "    .dataframe tbody tr th {\n",
       "        vertical-align: top;\n",
       "    }\n",
       "\n",
       "    .dataframe thead th {\n",
       "        text-align: right;\n",
       "    }\n",
       "</style>\n",
       "<table border=\"1\" class=\"dataframe\">\n",
       "  <thead>\n",
       "    <tr style=\"text-align: right;\">\n",
       "      <th></th>\n",
       "      <th>pickup_datetime</th>\n",
       "      <th>dropoff_datetime</th>\n",
       "      <th>pickup_longitude</th>\n",
       "      <th>pickup_latitude</th>\n",
       "      <th>dropoff_longitude</th>\n",
       "      <th>dropoff_latitude</th>\n",
       "      <th>passenger_count</th>\n",
       "      <th>trip_distance</th>\n",
       "      <th>total_amount</th>\n",
       "      <th>pickup_month</th>\n",
       "      <th>dropoff_month</th>\n",
       "    </tr>\n",
       "  </thead>\n",
       "  <tbody>\n",
       "    <tr>\n",
       "      <td>83</td>\n",
       "      <td>2014-07-08 23:54:31</td>\n",
       "      <td>2014-07-08 23:54:31</td>\n",
       "      <td>-73.860222</td>\n",
       "      <td>40.744179</td>\n",
       "      <td>-73.860222</td>\n",
       "      <td>40.744179</td>\n",
       "      <td>1</td>\n",
       "      <td>0.0</td>\n",
       "      <td>44.0</td>\n",
       "      <td>201407</td>\n",
       "      <td>201407</td>\n",
       "    </tr>\n",
       "    <tr>\n",
       "      <td>244</td>\n",
       "      <td>2015-06-27 22:03:29</td>\n",
       "      <td>2015-06-27 22:03:29</td>\n",
       "      <td>-73.998413</td>\n",
       "      <td>40.597172</td>\n",
       "      <td>-73.999222</td>\n",
       "      <td>40.596832</td>\n",
       "      <td>3</td>\n",
       "      <td>0.0</td>\n",
       "      <td>80.0</td>\n",
       "      <td>201506</td>\n",
       "      <td>201506</td>\n",
       "    </tr>\n",
       "    <tr>\n",
       "      <td>249</td>\n",
       "      <td>2014-08-15 04:17:26</td>\n",
       "      <td>2014-08-15 04:17:26</td>\n",
       "      <td>-73.769661</td>\n",
       "      <td>40.711884</td>\n",
       "      <td>-73.772713</td>\n",
       "      <td>40.710098</td>\n",
       "      <td>1</td>\n",
       "      <td>0.0</td>\n",
       "      <td>7.0</td>\n",
       "      <td>201408</td>\n",
       "      <td>201408</td>\n",
       "    </tr>\n",
       "    <tr>\n",
       "      <td>257</td>\n",
       "      <td>2014-08-02 17:15:46</td>\n",
       "      <td>2014-08-02 17:15:46</td>\n",
       "      <td>-73.876045</td>\n",
       "      <td>40.821217</td>\n",
       "      <td>-73.875885</td>\n",
       "      <td>40.821266</td>\n",
       "      <td>1</td>\n",
       "      <td>0.0</td>\n",
       "      <td>3.0</td>\n",
       "      <td>201408</td>\n",
       "      <td>201408</td>\n",
       "    </tr>\n",
       "    <tr>\n",
       "      <td>314</td>\n",
       "      <td>2014-04-18 00:26:05</td>\n",
       "      <td>2014-04-18 00:26:05</td>\n",
       "      <td>-73.867226</td>\n",
       "      <td>40.871326</td>\n",
       "      <td>-73.880409</td>\n",
       "      <td>40.874832</td>\n",
       "      <td>2</td>\n",
       "      <td>0.0</td>\n",
       "      <td>10.0</td>\n",
       "      <td>201404</td>\n",
       "      <td>201404</td>\n",
       "    </tr>\n",
       "  </tbody>\n",
       "</table>\n",
       "</div>"
      ],
      "text/plain": [
       "        pickup_datetime    dropoff_datetime  pickup_longitude  \\\n",
       "83  2014-07-08 23:54:31 2014-07-08 23:54:31        -73.860222   \n",
       "244 2015-06-27 22:03:29 2015-06-27 22:03:29        -73.998413   \n",
       "249 2014-08-15 04:17:26 2014-08-15 04:17:26        -73.769661   \n",
       "257 2014-08-02 17:15:46 2014-08-02 17:15:46        -73.876045   \n",
       "314 2014-04-18 00:26:05 2014-04-18 00:26:05        -73.867226   \n",
       "\n",
       "     pickup_latitude  dropoff_longitude  dropoff_latitude  passenger_count  \\\n",
       "83         40.744179         -73.860222         40.744179                1   \n",
       "244        40.597172         -73.999222         40.596832                3   \n",
       "249        40.711884         -73.772713         40.710098                1   \n",
       "257        40.821217         -73.875885         40.821266                1   \n",
       "314        40.871326         -73.880409         40.874832                2   \n",
       "\n",
       "     trip_distance  total_amount  pickup_month  dropoff_month  \n",
       "83             0.0          44.0        201407         201407  \n",
       "244            0.0          80.0        201506         201506  \n",
       "249            0.0           7.0        201408         201408  \n",
       "257            0.0           3.0        201408         201408  \n",
       "314            0.0          10.0        201404         201404  "
      ]
     },
     "execution_count": 16,
     "metadata": {},
     "output_type": "execute_result"
    }
   ],
   "source": [
    "green_trips[green_trips['trip_distance'] == 0].head()"
   ]
  },
  {
   "cell_type": "markdown",
   "metadata": {},
   "source": [
    "### Cleaning trip_distance 0"
   ]
  },
  {
   "cell_type": "code",
   "execution_count": 17,
   "metadata": {},
   "outputs": [
    {
     "name": "stderr",
     "output_type": "stream",
     "text": [
      "C:\\Users\\johns\\Anaconda3\\envs\\DS4A_test\\lib\\site-packages\\ipykernel_launcher.py:2: SettingWithCopyWarning: \n",
      "A value is trying to be set on a copy of a slice from a DataFrame.\n",
      "Try using .loc[row_indexer,col_indexer] = value instead\n",
      "\n",
      "See the caveats in the documentation: http://pandas.pydata.org/pandas-docs/stable/user_guide/indexing.html#returning-a-view-versus-a-copy\n",
      "  \n"
     ]
    }
   ],
   "source": [
    "green_trips_2 = green_trips[green_trips['trip_distance'] > 0]\n",
    "green_trips_2['amount_per_distance'] = green_trips_2['total_amount']/green_trips_2['trip_distance']"
   ]
  },
  {
   "cell_type": "code",
   "execution_count": 18,
   "metadata": {},
   "outputs": [
    {
     "data": {
      "image/png": "[encoded data removed]",
      "text/plain": [
       "<Figure size 1080x360 with 1 Axes>"
      ]
     },
     "metadata": {
      "needs_background": "light"
     },
     "output_type": "display_data"
    }
   ],
   "source": [
    "base = green_trips_2.copy()\n",
    "#base['amount_per_distance'] = base['total_amount']/base['trip_distance']\n",
    "#base['total_amount'] = base['total_amount']**(1/3)\n",
    "\n",
    "# Heat map of energy consumption by month and year\n",
    "fig, ax = plt.subplots(figsize=(15,5))\n",
    "chart = sns.boxplot( y=\"amount_per_distance\", data=base, ax = ax)\n",
    "ax.set_title('Peak Months Consumption Analysis');\n",
    "ax.set(ylabel='Value')\n",
    "\n",
    "chart.set_xticklabels(chart.get_xticklabels(), rotation=90)\n",
    "plt.show()"
   ]
  },
  {
   "cell_type": "code",
   "execution_count": 19,
   "metadata": {},
   "outputs": [
    {
     "data": {
      "text/html": [
       "<div>\n",
       "<style scoped>\n",
       "    .dataframe tbody tr th:only-of-type {\n",
       "        vertical-align: middle;\n",
       "    }\n",
       "\n",
       "    .dataframe tbody tr th {\n",
       "        vertical-align: top;\n",
       "    }\n",
       "\n",
       "    .dataframe thead th {\n",
       "        text-align: right;\n",
       "    }\n",
       "</style>\n",
       "<table border=\"1\" class=\"dataframe\">\n",
       "  <thead>\n",
       "    <tr style=\"text-align: right;\">\n",
       "      <th></th>\n",
       "      <th>pickup_datetime</th>\n",
       "      <th>dropoff_datetime</th>\n",
       "      <th>pickup_longitude</th>\n",
       "      <th>pickup_latitude</th>\n",
       "      <th>dropoff_longitude</th>\n",
       "      <th>dropoff_latitude</th>\n",
       "      <th>passenger_count</th>\n",
       "      <th>trip_distance</th>\n",
       "      <th>total_amount</th>\n",
       "      <th>pickup_month</th>\n",
       "      <th>dropoff_month</th>\n",
       "    </tr>\n",
       "  </thead>\n",
       "  <tbody>\n",
       "    <tr>\n",
       "      <td>1314</td>\n",
       "      <td>2015-04-26 11:46:14</td>\n",
       "      <td>2015-04-26 11:46:14</td>\n",
       "      <td>-73.871948</td>\n",
       "      <td>40.969997</td>\n",
       "      <td>-73.887589</td>\n",
       "      <td>40.974926</td>\n",
       "      <td>1</td>\n",
       "      <td>1.80</td>\n",
       "      <td>140.8</td>\n",
       "      <td>201504</td>\n",
       "      <td>201504</td>\n",
       "    </tr>\n",
       "    <tr>\n",
       "      <td>1612</td>\n",
       "      <td>2015-05-17 19:09:45</td>\n",
       "      <td>2015-05-17 19:09:45</td>\n",
       "      <td>-73.947662</td>\n",
       "      <td>40.747704</td>\n",
       "      <td>-73.947655</td>\n",
       "      <td>40.747738</td>\n",
       "      <td>2</td>\n",
       "      <td>0.00</td>\n",
       "      <td>144.0</td>\n",
       "      <td>201505</td>\n",
       "      <td>201505</td>\n",
       "    </tr>\n",
       "    <tr>\n",
       "      <td>3290</td>\n",
       "      <td>2014-09-28 15:12:32</td>\n",
       "      <td>2014-09-28 15:12:32</td>\n",
       "      <td>-73.959015</td>\n",
       "      <td>40.670914</td>\n",
       "      <td>-74.183121</td>\n",
       "      <td>40.688042</td>\n",
       "      <td>1</td>\n",
       "      <td>19.90</td>\n",
       "      <td>105.6</td>\n",
       "      <td>201409</td>\n",
       "      <td>201409</td>\n",
       "    </tr>\n",
       "    <tr>\n",
       "      <td>4136</td>\n",
       "      <td>2015-03-28 09:16:25</td>\n",
       "      <td>2015-03-28 09:16:25</td>\n",
       "      <td>-73.930336</td>\n",
       "      <td>40.677502</td>\n",
       "      <td>-73.920280</td>\n",
       "      <td>40.669353</td>\n",
       "      <td>1</td>\n",
       "      <td>7.78</td>\n",
       "      <td>321.8</td>\n",
       "      <td>201503</td>\n",
       "      <td>201503</td>\n",
       "    </tr>\n",
       "    <tr>\n",
       "      <td>4402</td>\n",
       "      <td>2015-01-31 23:43:25</td>\n",
       "      <td>2015-01-31 23:43:25</td>\n",
       "      <td>-73.784569</td>\n",
       "      <td>40.595406</td>\n",
       "      <td>-73.991890</td>\n",
       "      <td>40.744087</td>\n",
       "      <td>1</td>\n",
       "      <td>29.68</td>\n",
       "      <td>214.3</td>\n",
       "      <td>201501</td>\n",
       "      <td>201501</td>\n",
       "    </tr>\n",
       "  </tbody>\n",
       "</table>\n",
       "</div>"
      ],
      "text/plain": [
       "         pickup_datetime    dropoff_datetime  pickup_longitude  \\\n",
       "1314 2015-04-26 11:46:14 2015-04-26 11:46:14        -73.871948   \n",
       "1612 2015-05-17 19:09:45 2015-05-17 19:09:45        -73.947662   \n",
       "3290 2014-09-28 15:12:32 2014-09-28 15:12:32        -73.959015   \n",
       "4136 2015-03-28 09:16:25 2015-03-28 09:16:25        -73.930336   \n",
       "4402 2015-01-31 23:43:25 2015-01-31 23:43:25        -73.784569   \n",
       "\n",
       "      pickup_latitude  dropoff_longitude  dropoff_latitude  passenger_count  \\\n",
       "1314        40.969997         -73.887589         40.974926                1   \n",
       "1612        40.747704         -73.947655         40.747738                2   \n",
       "3290        40.670914         -74.183121         40.688042                1   \n",
       "4136        40.677502         -73.920280         40.669353                1   \n",
       "4402        40.595406         -73.991890         40.744087                1   \n",
       "\n",
       "      trip_distance  total_amount  pickup_month  dropoff_month  \n",
       "1314           1.80         140.8        201504         201504  \n",
       "1612           0.00         144.0        201505         201505  \n",
       "3290          19.90         105.6        201409         201409  \n",
       "4136           7.78         321.8        201503         201503  \n",
       "4402          29.68         214.3        201501         201501  "
      ]
     },
     "execution_count": 19,
     "metadata": {},
     "output_type": "execute_result"
    }
   ],
   "source": [
    "green_trips[green_trips['total_amount'] > 100].head()"
   ]
  },
  {
   "cell_type": "markdown",
   "metadata": {},
   "source": [
    "## Interquartile range to eliminate outliers"
   ]
  },
  {
   "cell_type": "markdown",
   "metadata": {},
   "source": [
    "### Total amount outliers"
   ]
  },
  {
   "cell_type": "code",
   "execution_count": 20,
   "metadata": {},
   "outputs": [],
   "source": [
    "def drop_outliers_iqr(base, var):\n",
    "\n",
    "    q1 = base[var].quantile(0.25)\n",
    "    q3 = base[var].quantile(0.75)\n",
    "\n",
    "    iqr = q3 - q1\n",
    "\n",
    "    min_val = q1-1.5*iqr\n",
    "    max_val = q3+1.5*iqr\n",
    "\n",
    "    print(max_val)\n",
    "\n",
    "    base['Eliminate'] = np.where(np.logical_or(base[var] > max_val, \n",
    "                                                  (base[var] < min_val)), 1, 0)\n",
    "\n",
    "    base = base.loc[base['Eliminate'] == 0]\n",
    "    base = base.drop('Eliminate', axis = 1)\n",
    "    return base"
   ]
  },
  {
   "cell_type": "code",
   "execution_count": 21,
   "metadata": {},
   "outputs": [],
   "source": [
    "green_trips_1 = green_trips_2.copy()\n",
    "#green_trips_2 = green_trips_1.copy()"
   ]
  },
  {
   "cell_type": "markdown",
   "metadata": {},
   "source": [
    "#### Cleaning of outliers by amount per distance"
   ]
  },
  {
   "cell_type": "code",
   "execution_count": 22,
   "metadata": {},
   "outputs": [
    {
     "name": "stdout",
     "output_type": "stream",
     "text": [
      "Cleaning Total Amout Outliers\n",
      "Shape before: (3537596, 12)\n",
      "11.444126854498434\n"
     ]
    },
    {
     "name": "stderr",
     "output_type": "stream",
     "text": [
      "C:\\Users\\johns\\Anaconda3\\envs\\DS4A_test\\lib\\site-packages\\ipykernel_launcher.py:14: SettingWithCopyWarning: \n",
      "A value is trying to be set on a copy of a slice from a DataFrame.\n",
      "Try using .loc[row_indexer,col_indexer] = value instead\n",
      "\n",
      "See the caveats in the documentation: http://pandas.pydata.org/pandas-docs/stable/user_guide/indexing.html#returning-a-view-versus-a-copy\n",
      "  \n"
     ]
    },
    {
     "name": "stdout",
     "output_type": "stream",
     "text": [
      "Shape after: (3351102, 12)\n"
     ]
    }
   ],
   "source": [
    "print('Cleaning Total Amout Outliers')\n",
    "print('Shape before:', green_trips_2.shape)\n",
    "green_trips_2 = drop_outliers_iqr(green_trips_2, 'amount_per_distance')\n",
    "print('Shape after:', green_trips_2.shape)"
   ]
  },
  {
   "cell_type": "code",
   "execution_count": 23,
   "metadata": {},
   "outputs": [
    {
     "data": {
      "text/html": [
       "<div>\n",
       "<style scoped>\n",
       "    .dataframe tbody tr th:only-of-type {\n",
       "        vertical-align: middle;\n",
       "    }\n",
       "\n",
       "    .dataframe tbody tr th {\n",
       "        vertical-align: top;\n",
       "    }\n",
       "\n",
       "    .dataframe thead th {\n",
       "        text-align: right;\n",
       "    }\n",
       "</style>\n",
       "<table border=\"1\" class=\"dataframe\">\n",
       "  <thead>\n",
       "    <tr style=\"text-align: right;\">\n",
       "      <th></th>\n",
       "      <th>pickup_datetime</th>\n",
       "      <th>dropoff_datetime</th>\n",
       "      <th>pickup_longitude</th>\n",
       "      <th>pickup_latitude</th>\n",
       "      <th>dropoff_longitude</th>\n",
       "      <th>dropoff_latitude</th>\n",
       "      <th>passenger_count</th>\n",
       "      <th>trip_distance</th>\n",
       "      <th>total_amount</th>\n",
       "      <th>pickup_month</th>\n",
       "      <th>dropoff_month</th>\n",
       "      <th>amount_per_distance</th>\n",
       "    </tr>\n",
       "  </thead>\n",
       "  <tbody>\n",
       "    <tr>\n",
       "      <td>0</td>\n",
       "      <td>2015-02-01 01:26:45</td>\n",
       "      <td>2015-02-01 01:26:45</td>\n",
       "      <td>-73.953545</td>\n",
       "      <td>40.811172</td>\n",
       "      <td>-73.984764</td>\n",
       "      <td>40.728386</td>\n",
       "      <td>1</td>\n",
       "      <td>8.11</td>\n",
       "      <td>27.8</td>\n",
       "      <td>201502</td>\n",
       "      <td>201502</td>\n",
       "      <td>3.427867</td>\n",
       "    </tr>\n",
       "    <tr>\n",
       "      <td>1</td>\n",
       "      <td>2015-01-02 20:06:28</td>\n",
       "      <td>2015-01-02 20:06:28</td>\n",
       "      <td>-73.946709</td>\n",
       "      <td>40.714321</td>\n",
       "      <td>-73.961571</td>\n",
       "      <td>40.711475</td>\n",
       "      <td>1</td>\n",
       "      <td>1.29</td>\n",
       "      <td>9.8</td>\n",
       "      <td>201501</td>\n",
       "      <td>201501</td>\n",
       "      <td>7.596899</td>\n",
       "    </tr>\n",
       "    <tr>\n",
       "      <td>2</td>\n",
       "      <td>2014-09-27 17:55:38</td>\n",
       "      <td>2014-09-27 17:55:38</td>\n",
       "      <td>-73.957626</td>\n",
       "      <td>40.718094</td>\n",
       "      <td>-73.947304</td>\n",
       "      <td>40.777813</td>\n",
       "      <td>5</td>\n",
       "      <td>6.12</td>\n",
       "      <td>26.3</td>\n",
       "      <td>201409</td>\n",
       "      <td>201409</td>\n",
       "      <td>4.297386</td>\n",
       "    </tr>\n",
       "    <tr>\n",
       "      <td>3</td>\n",
       "      <td>2014-04-27 02:27:04</td>\n",
       "      <td>2014-04-27 02:27:04</td>\n",
       "      <td>-73.949501</td>\n",
       "      <td>40.713997</td>\n",
       "      <td>-73.987785</td>\n",
       "      <td>40.718582</td>\n",
       "      <td>2</td>\n",
       "      <td>3.68</td>\n",
       "      <td>17.3</td>\n",
       "      <td>201404</td>\n",
       "      <td>201404</td>\n",
       "      <td>4.701087</td>\n",
       "    </tr>\n",
       "    <tr>\n",
       "      <td>4</td>\n",
       "      <td>2014-05-26 18:32:19</td>\n",
       "      <td>2014-05-26 18:32:19</td>\n",
       "      <td>-73.944092</td>\n",
       "      <td>40.672195</td>\n",
       "      <td>-73.977325</td>\n",
       "      <td>40.664013</td>\n",
       "      <td>1</td>\n",
       "      <td>2.40</td>\n",
       "      <td>11.5</td>\n",
       "      <td>201405</td>\n",
       "      <td>201405</td>\n",
       "      <td>4.791667</td>\n",
       "    </tr>\n",
       "  </tbody>\n",
       "</table>\n",
       "</div>"
      ],
      "text/plain": [
       "      pickup_datetime    dropoff_datetime  pickup_longitude  pickup_latitude  \\\n",
       "0 2015-02-01 01:26:45 2015-02-01 01:26:45        -73.953545        40.811172   \n",
       "1 2015-01-02 20:06:28 2015-01-02 20:06:28        -73.946709        40.714321   \n",
       "2 2014-09-27 17:55:38 2014-09-27 17:55:38        -73.957626        40.718094   \n",
       "3 2014-04-27 02:27:04 2014-04-27 02:27:04        -73.949501        40.713997   \n",
       "4 2014-05-26 18:32:19 2014-05-26 18:32:19        -73.944092        40.672195   \n",
       "\n",
       "   dropoff_longitude  dropoff_latitude  passenger_count  trip_distance  \\\n",
       "0         -73.984764         40.728386                1           8.11   \n",
       "1         -73.961571         40.711475                1           1.29   \n",
       "2         -73.947304         40.777813                5           6.12   \n",
       "3         -73.987785         40.718582                2           3.68   \n",
       "4         -73.977325         40.664013                1           2.40   \n",
       "\n",
       "   total_amount  pickup_month  dropoff_month  amount_per_distance  \n",
       "0          27.8        201502         201502             3.427867  \n",
       "1           9.8        201501         201501             7.596899  \n",
       "2          26.3        201409         201409             4.297386  \n",
       "3          17.3        201404         201404             4.701087  \n",
       "4          11.5        201405         201405             4.791667  "
      ]
     },
     "execution_count": 23,
     "metadata": {},
     "output_type": "execute_result"
    }
   ],
   "source": [
    "green_trips_2.head()"
   ]
  },
  {
   "cell_type": "code",
   "execution_count": 24,
   "metadata": {},
   "outputs": [
    {
     "data": {
      "image/png": "[encoded data removed]",
      "text/plain": [
       "<Figure size 1080x360 with 1 Axes>"
      ]
     },
     "metadata": {
      "needs_background": "light"
     },
     "output_type": "display_data"
    }
   ],
   "source": [
    "base = green_trips_2.copy()\n",
    "base = base#[base['total_amount'] < 30 & (base['total_amount'] > -10)]\n",
    "#base['total_amount'] = base['total_amount']**(1/3)\n",
    "\n",
    "# Heat map of energy consumption by month and year\n",
    "fig, ax = plt.subplots(figsize=(15,5))\n",
    "chart = sns.boxplot( y=\"amount_per_distance\", data=base, ax = ax)\n",
    "ax.set_title('amount_per_distance');\n",
    "ax.set(ylabel='Value')\n",
    "\n",
    "chart.set_xticklabels(chart.get_xticklabels(), rotation=90)\n",
    "plt.show()"
   ]
  },
  {
   "cell_type": "code",
   "execution_count": 25,
   "metadata": {},
   "outputs": [],
   "source": [
    "path = 'DataSet/Parquets' \n",
    "green_trips_2.to_parquet(path + '/green_trips_filtered.parquet', engine = 'pyarrow')"
   ]
  }
 ],
 "metadata": {
  "kernelspec": {
   "display_name": "Python 3",
   "language": "python",
   "name": "python3"
  },
  "language_info": {
   "codemirror_mode": {
    "name": "ipython",
    "version": 3
   },
   "file_extension": ".py",
   "mimetype": "text/x-python",
   "name": "python",
   "nbconvert_exporter": "python",
   "pygments_lexer": "ipython3",
   "version": "3.7.3"
  }
 },
 "nbformat": 4,
 "nbformat_minor": 2
}
