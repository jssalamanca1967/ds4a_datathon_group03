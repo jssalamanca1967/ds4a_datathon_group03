{
 "cells": [
  {
   "cell_type": "code",
   "execution_count": 4,
   "metadata": {},
   "outputs": [],
   "source": [
    "import pandas as pd\n",
    "import os\n",
    "import numpy as np\n",
    "import pandas_profiling\n",
    "\n",
    "# This line is needed to display plots inline in Jupyter Notebook\n",
    "%matplotlib inline\n",
    "\n",
    "# Required for basic python plotting functionality\n",
    "import matplotlib.pyplot as plt\n",
    "\n",
    "# Required for formatting dates later in the case\n",
    "import datetime\n",
    "import matplotlib.dates as mdates\n",
    "\n",
    "# Required to display image inline\n",
    "from IPython.display import Image\n",
    "\n",
    "# Advanced plotting functionality with seaborn\n",
    "import seaborn as sns\n",
    "sns.set(style=\"whitegrid\") # can set style depending on how you'd like it to look\n",
    "\n",
    "import folium  #needed for interactive map\n",
    "from folium.plugins import HeatMap\n",
    "\n",
    "import geopandas\n",
    "from shapely.geometry import Polygon\n",
    "from shapely.geometry import Point\n",
    "from geopandas import GeoDataFrame"
   ]
  },
  {
   "cell_type": "code",
   "execution_count": 5,
   "metadata": {},
   "outputs": [],
   "source": [
    "path = 'C:/Users/johns/Documents/DS4A_workspace/Datathon/DataSet'\n",
    "green_trips = pd.read_parquet(path + '/Parquet/green_trips_filtered.parquet', engine = 'pyarrow')"
   ]
  },
  {
   "cell_type": "code",
   "execution_count": 6,
   "metadata": {},
   "outputs": [],
   "source": [
    "path = 'C:/Users/johns/Documents/DS4A_workspace/Datathon/DataSet'\n",
    "yellow_trips = pd.read_parquet(path + '/Parquet/yellow_trips_filtered.parquet', engine = 'pyarrow')"
   ]
  },
  {
   "cell_type": "code",
   "execution_count": 7,
   "metadata": {},
   "outputs": [],
   "source": [
    "path = 'C:/Users/johns/Documents/DS4A_workspace/Datathon/DataSet'\n",
    "mta_trips = pd.read_parquet(path + '/Parquet/mta_trips_filtered.parquet', engine = 'pyarrow')"
   ]
  },
  {
   "cell_type": "code",
   "execution_count": 28,
   "metadata": {},
   "outputs": [
    {
     "data": {
      "text/html": [
       "<div>\n",
       "<style scoped>\n",
       "    .dataframe tbody tr th:only-of-type {\n",
       "        vertical-align: middle;\n",
       "    }\n",
       "\n",
       "    .dataframe tbody tr th {\n",
       "        vertical-align: top;\n",
       "    }\n",
       "\n",
       "    .dataframe thead th {\n",
       "        text-align: right;\n",
       "    }\n",
       "</style>\n",
       "<table border=\"1\" class=\"dataframe\">\n",
       "  <thead>\n",
       "    <tr style=\"text-align: right;\">\n",
       "      <th></th>\n",
       "      <th>pickup_date</th>\n",
       "      <th>pickup_hour</th>\n",
       "      <th>trips</th>\n",
       "    </tr>\n",
       "  </thead>\n",
       "  <tbody>\n",
       "    <tr>\n",
       "      <td>0</td>\n",
       "      <td>2014-04-01</td>\n",
       "      <td>0</td>\n",
       "      <td>209</td>\n",
       "    </tr>\n",
       "    <tr>\n",
       "      <td>1</td>\n",
       "      <td>2014-04-01</td>\n",
       "      <td>1</td>\n",
       "      <td>137</td>\n",
       "    </tr>\n",
       "    <tr>\n",
       "      <td>2</td>\n",
       "      <td>2014-04-01</td>\n",
       "      <td>2</td>\n",
       "      <td>82</td>\n",
       "    </tr>\n",
       "    <tr>\n",
       "      <td>3</td>\n",
       "      <td>2014-04-01</td>\n",
       "      <td>3</td>\n",
       "      <td>48</td>\n",
       "    </tr>\n",
       "    <tr>\n",
       "      <td>4</td>\n",
       "      <td>2014-04-01</td>\n",
       "      <td>4</td>\n",
       "      <td>79</td>\n",
       "    </tr>\n",
       "  </tbody>\n",
       "</table>\n",
       "</div>"
      ],
      "text/plain": [
       "  pickup_date  pickup_hour  trips\n",
       "0  2014-04-01            0    209\n",
       "1  2014-04-01            1    137\n",
       "2  2014-04-01            2     82\n",
       "3  2014-04-01            3     48\n",
       "4  2014-04-01            4     79"
      ]
     },
     "execution_count": 28,
     "metadata": {},
     "output_type": "execute_result"
    }
   ],
   "source": [
    "green_trips['pickup_date'] = pd.to_datetime(green_trips['pickup_datetime']).dt.date\n",
    "green_trips['pickup_hour'] = pd.to_datetime(green_trips['pickup_datetime']).dt.hour\n",
    "green_trips_date = green_trips.groupby(['pickup_date', 'pickup_hour'])['passenger_count'].count().reset_index(name = 'trips')\n",
    "green_trips_date['pickup_date'] = pd.to_datetime(green_trips_date['pickup_date'], format = '%Y-%m-%d')\n",
    "green_trips_date.head()"
   ]
  },
  {
   "cell_type": "code",
   "execution_count": 29,
   "metadata": {
    "scrolled": true
   },
   "outputs": [
    {
     "data": {
      "text/html": [
       "<div>\n",
       "<style scoped>\n",
       "    .dataframe tbody tr th:only-of-type {\n",
       "        vertical-align: middle;\n",
       "    }\n",
       "\n",
       "    .dataframe tbody tr th {\n",
       "        vertical-align: top;\n",
       "    }\n",
       "\n",
       "    .dataframe thead th {\n",
       "        text-align: right;\n",
       "    }\n",
       "</style>\n",
       "<table border=\"1\" class=\"dataframe\">\n",
       "  <thead>\n",
       "    <tr style=\"text-align: right;\">\n",
       "      <th></th>\n",
       "      <th>pickup_date</th>\n",
       "      <th>pickup_hour</th>\n",
       "      <th>trips</th>\n",
       "    </tr>\n",
       "  </thead>\n",
       "  <tbody>\n",
       "    <tr>\n",
       "      <td>0</td>\n",
       "      <td>2014-04-01</td>\n",
       "      <td>0</td>\n",
       "      <td>546</td>\n",
       "    </tr>\n",
       "    <tr>\n",
       "      <td>1</td>\n",
       "      <td>2014-04-01</td>\n",
       "      <td>1</td>\n",
       "      <td>280</td>\n",
       "    </tr>\n",
       "    <tr>\n",
       "      <td>2</td>\n",
       "      <td>2014-04-01</td>\n",
       "      <td>2</td>\n",
       "      <td>192</td>\n",
       "    </tr>\n",
       "    <tr>\n",
       "      <td>3</td>\n",
       "      <td>2014-04-01</td>\n",
       "      <td>3</td>\n",
       "      <td>111</td>\n",
       "    </tr>\n",
       "    <tr>\n",
       "      <td>4</td>\n",
       "      <td>2014-04-01</td>\n",
       "      <td>4</td>\n",
       "      <td>141</td>\n",
       "    </tr>\n",
       "  </tbody>\n",
       "</table>\n",
       "</div>"
      ],
      "text/plain": [
       "  pickup_date  pickup_hour  trips\n",
       "0  2014-04-01            0    546\n",
       "1  2014-04-01            1    280\n",
       "2  2014-04-01            2    192\n",
       "3  2014-04-01            3    111\n",
       "4  2014-04-01            4    141"
      ]
     },
     "execution_count": 29,
     "metadata": {},
     "output_type": "execute_result"
    }
   ],
   "source": [
    "yellow_trips['pickup_date'] = pd.to_datetime(yellow_trips['pickup_datetime']).dt.date\n",
    "yellow_trips['pickup_hour'] = pd.to_datetime(yellow_trips['pickup_datetime']).dt.hour\n",
    "yellow_trips_date = yellow_trips.groupby(['pickup_date', 'pickup_hour'])['passenger_count'].count().reset_index(name = 'trips')\n",
    "yellow_trips_date['pickup_date'] = pd.to_datetime(yellow_trips_date['pickup_date'], format = '%Y-%m-%d')\n",
    "yellow_trips_date.head()"
   ]
  },
  {
   "cell_type": "code",
   "execution_count": 31,
   "metadata": {},
   "outputs": [],
   "source": [
    "mta_trips['date'] = pd.to_datetime(mta_trips['datetime']).dt.date\n",
    "mta_trips['hour'] = pd.to_datetime(mta_trips['datetime']).dt.hour\n",
    "mta_trips_date = mta_trips.groupby(['date', 'hour'])['new_entries'].count().reset_index(name = 'trips')\n",
    "mta_trips_date['new_entries'] = mta_trips.groupby(['date', 'hour'])['new_entries'].transform(sum)#['new_entries']\n",
    "mta_trips_date['new_exits'] = mta_trips.groupby(['date', 'hour'])['new_exits'].transform(sum)#['new_exits']\n",
    "mta_trips_date['date'] = pd.to_datetime(mta_trips_date['date'], format = '%Y-%m-%d')"
   ]
  },
  {
   "cell_type": "code",
   "execution_count": 17,
   "metadata": {
    "scrolled": true
   },
   "outputs": [
    {
     "data": {
      "text/html": [
       "<div>\n",
       "<style scoped>\n",
       "    .dataframe tbody tr th:only-of-type {\n",
       "        vertical-align: middle;\n",
       "    }\n",
       "\n",
       "    .dataframe tbody tr th {\n",
       "        vertical-align: top;\n",
       "    }\n",
       "\n",
       "    .dataframe thead th {\n",
       "        text-align: right;\n",
       "    }\n",
       "</style>\n",
       "<table border=\"1\" class=\"dataframe\">\n",
       "  <thead>\n",
       "    <tr style=\"text-align: right;\">\n",
       "      <th></th>\n",
       "      <th>date</th>\n",
       "      <th>hour</th>\n",
       "      <th>trips</th>\n",
       "      <th>new_entries</th>\n",
       "      <th>new_exits</th>\n",
       "    </tr>\n",
       "  </thead>\n",
       "  <tbody>\n",
       "    <tr>\n",
       "      <td>0</td>\n",
       "      <td>2014-03-29</td>\n",
       "      <td>0.0</td>\n",
       "      <td>9</td>\n",
       "      <td>37179.0</td>\n",
       "      <td>34758.0</td>\n",
       "    </tr>\n",
       "    <tr>\n",
       "      <td>1</td>\n",
       "      <td>2014-03-29</td>\n",
       "      <td>1.0</td>\n",
       "      <td>27</td>\n",
       "      <td>124228.0</td>\n",
       "      <td>78023.0</td>\n",
       "    </tr>\n",
       "    <tr>\n",
       "      <td>2</td>\n",
       "      <td>2014-03-29</td>\n",
       "      <td>2.0</td>\n",
       "      <td>20</td>\n",
       "      <td>231348.0</td>\n",
       "      <td>181239.0</td>\n",
       "    </tr>\n",
       "    <tr>\n",
       "      <td>3</td>\n",
       "      <td>2014-03-29</td>\n",
       "      <td>3.0</td>\n",
       "      <td>11</td>\n",
       "      <td>308449.0</td>\n",
       "      <td>229925.0</td>\n",
       "    </tr>\n",
       "    <tr>\n",
       "      <td>4</td>\n",
       "      <td>2014-03-29</td>\n",
       "      <td>4.0</td>\n",
       "      <td>1877</td>\n",
       "      <td>248805.0</td>\n",
       "      <td>207193.0</td>\n",
       "    </tr>\n",
       "  </tbody>\n",
       "</table>\n",
       "</div>"
      ],
      "text/plain": [
       "         date  hour  trips  new_entries  new_exits\n",
       "0  2014-03-29   0.0      9      37179.0    34758.0\n",
       "1  2014-03-29   1.0     27     124228.0    78023.0\n",
       "2  2014-03-29   2.0     20     231348.0   181239.0\n",
       "3  2014-03-29   3.0     11     308449.0   229925.0\n",
       "4  2014-03-29   4.0   1877     248805.0   207193.0"
      ]
     },
     "execution_count": 17,
     "metadata": {},
     "output_type": "execute_result"
    }
   ],
   "source": [
    "mta_trips_date.head()"
   ]
  },
  {
   "cell_type": "code",
   "execution_count": 25,
   "metadata": {},
   "outputs": [
    {
     "data": {
      "text/plain": [
       "pickup_date    object\n",
       "pickup_hour     int64\n",
       "trips           int64\n",
       "dtype: object"
      ]
     },
     "execution_count": 25,
     "metadata": {},
     "output_type": "execute_result"
    }
   ],
   "source": [
    "green_trips_date.dtypes"
   ]
  },
  {
   "cell_type": "code",
   "execution_count": 32,
   "metadata": {},
   "outputs": [],
   "source": [
    "path = 'C:/Users/johns/Documents/DS4A_workspace/Datathon/DataSet'\n",
    "green_trips_date.to_parquet(path + '/Parquet/green_trips_date.parquet', engine = 'pyarrow')"
   ]
  },
  {
   "cell_type": "code",
   "execution_count": 33,
   "metadata": {},
   "outputs": [],
   "source": [
    "path = 'C:/Users/johns/Documents/DS4A_workspace/Datathon/DataSet'\n",
    "yellow_trips_date.to_parquet(path + '/Parquet/yellow_trips_date.parquet', engine = 'pyarrow')"
   ]
  },
  {
   "cell_type": "code",
   "execution_count": 34,
   "metadata": {},
   "outputs": [],
   "source": [
    "path = 'C:/Users/johns/Documents/DS4A_workspace/Datathon/DataSet'\n",
    "mta_trips_date.to_parquet(path + '/Parquet/mta_trips_date.parquet', engine = 'pyarrow')"
   ]
  }
 ],
 "metadata": {
  "kernelspec": {
   "display_name": "Python 3",
   "language": "python",
   "name": "python3"
  },
  "language_info": {
   "codemirror_mode": {
    "name": "ipython",
    "version": 3
   },
   "file_extension": ".py",
   "mimetype": "text/x-python",
   "name": "python",
   "nbconvert_exporter": "python",
   "pygments_lexer": "ipython3",
   "version": "3.7.3"
  }
 },
 "nbformat": 4,
 "nbformat_minor": 2
}
